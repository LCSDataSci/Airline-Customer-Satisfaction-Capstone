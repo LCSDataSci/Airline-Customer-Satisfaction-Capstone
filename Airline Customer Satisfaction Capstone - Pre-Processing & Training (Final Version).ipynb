{
 "cells": [
  {
   "cell_type": "markdown",
   "metadata": {},
   "source": [
    "# **Airline Customer Satisfaction Capstone**"
   ]
  },
  {
   "cell_type": "markdown",
   "metadata": {},
   "source": [
    "## Pre-Processing & Training"
   ]
  },
  {
   "cell_type": "markdown",
   "metadata": {},
   "source": [
    "Now that we have completed the first two sections of this project (the Data Wrangling and Exploratory Data Analysis), it is time to move on to pre-processing and training our data so that it can be used in upcoming models."
   ]
  },
  {
   "cell_type": "markdown",
   "metadata": {},
   "source": [
    "## 1. Table of Contents"
   ]
  },
  {
   "cell_type": "markdown",
   "metadata": {},
   "source": [
    "[1. Table of Contents](#1.-Table-of-Contents)\n",
    "\n",
    "[2. Import Packages](#2.-Import-Packages)\n",
    "\n",
    "[3. Load Data](#3.-Load-Data)\n",
    "\n",
    "[4. Explore the Data](#4.-Explore-the-Data)\n",
    "\n",
    "[5. Dummy Variables](#5.-Dummy-Variables)\n",
    "\n",
    "[6. Train/Test Split](#6.-Train/Test-Split)"
   ]
  },
  {
   "cell_type": "markdown",
   "metadata": {},
   "source": [
    "## 2. Import Packages"
   ]
  },
  {
   "cell_type": "code",
   "execution_count": 79,
   "metadata": {},
   "outputs": [],
   "source": [
    "import pandas as pd\n",
    "import numpy as np\n",
    "import os\n",
    "import pickle\n",
    "import matplotlib.pyplot as plt\n",
    "import seaborn as sns\n",
    "from sklearn import __version__ as sklearn_version\n",
    "from sklearn.decomposition import PCA\n",
    "from sklearn.preprocessing import scale\n",
    "from sklearn.model_selection import train_test_split, cross_validate, GridSearchCV, learning_curve\n",
    "from sklearn.preprocessing import StandardScaler, MinMaxScaler\n",
    "from sklearn.dummy import DummyRegressor\n",
    "from sklearn.linear_model import LinearRegression\n",
    "from sklearn.ensemble import RandomForestRegressor\n",
    "from sklearn.metrics import r2_score, mean_squared_error, mean_absolute_error\n",
    "from sklearn.pipeline import make_pipeline\n",
    "from sklearn.impute import SimpleImputer\n",
    "from sklearn.feature_selection import SelectKBest, f_regression\n",
    "import datetime\n",
    "from sklearn.linear_model import LogisticRegression\n",
    "from sklearn.metrics import accuracy_score\n",
    "from sklearn import metrics\n",
    "from sklearn.metrics import plot_confusion_matrix, classification_report,confusion_matrix\n",
    "from sklearn.metrics import accuracy_score ,confusion_matrix,classification_report,plot_confusion_matrix"
   ]
  },
  {
   "cell_type": "markdown",
   "metadata": {},
   "source": [
    "## 3. Load Data"
   ]
  },
  {
   "cell_type": "code",
   "execution_count": 43,
   "metadata": {},
   "outputs": [],
   "source": [
    "df=pd.read_csv('/Users/lauren/Desktop/airline_data_cleaned2.csv')"
   ]
  },
  {
   "cell_type": "markdown",
   "metadata": {},
   "source": [
    "# 4. Explore the Data"
   ]
  },
  {
   "cell_type": "code",
   "execution_count": 44,
   "metadata": {},
   "outputs": [
    {
     "data": {
      "text/html": [
       "<div>\n",
       "<style scoped>\n",
       "    .dataframe tbody tr th:only-of-type {\n",
       "        vertical-align: middle;\n",
       "    }\n",
       "\n",
       "    .dataframe tbody tr th {\n",
       "        vertical-align: top;\n",
       "    }\n",
       "\n",
       "    .dataframe thead th {\n",
       "        text-align: right;\n",
       "    }\n",
       "</style>\n",
       "<table border=\"1\" class=\"dataframe\">\n",
       "  <thead>\n",
       "    <tr style=\"text-align: right;\">\n",
       "      <th></th>\n",
       "      <th>Unnamed: 0</th>\n",
       "      <th>ID</th>\n",
       "      <th>Gender</th>\n",
       "      <th>Age</th>\n",
       "      <th>Customer Type</th>\n",
       "      <th>Type of Travel</th>\n",
       "      <th>Class</th>\n",
       "      <th>Flight Distance</th>\n",
       "      <th>Departure Delay</th>\n",
       "      <th>Arrival Delay</th>\n",
       "      <th>...</th>\n",
       "      <th>On-board Service</th>\n",
       "      <th>Seat Comfort</th>\n",
       "      <th>Leg Room Service</th>\n",
       "      <th>Cleanliness</th>\n",
       "      <th>Food and Drink</th>\n",
       "      <th>In-flight Service</th>\n",
       "      <th>In-flight Wifi Service</th>\n",
       "      <th>In-flight Entertainment</th>\n",
       "      <th>Baggage Handling</th>\n",
       "      <th>Satisfaction</th>\n",
       "    </tr>\n",
       "  </thead>\n",
       "  <tbody>\n",
       "    <tr>\n",
       "      <th>0</th>\n",
       "      <td>0</td>\n",
       "      <td>1</td>\n",
       "      <td>Male</td>\n",
       "      <td>48</td>\n",
       "      <td>First-time</td>\n",
       "      <td>Business</td>\n",
       "      <td>Business</td>\n",
       "      <td>821</td>\n",
       "      <td>2</td>\n",
       "      <td>5.0</td>\n",
       "      <td>...</td>\n",
       "      <td>3</td>\n",
       "      <td>5</td>\n",
       "      <td>2</td>\n",
       "      <td>5</td>\n",
       "      <td>5</td>\n",
       "      <td>5</td>\n",
       "      <td>3</td>\n",
       "      <td>5</td>\n",
       "      <td>5</td>\n",
       "      <td>Neutral or Dissatisfied</td>\n",
       "    </tr>\n",
       "    <tr>\n",
       "      <th>1</th>\n",
       "      <td>1</td>\n",
       "      <td>2</td>\n",
       "      <td>Female</td>\n",
       "      <td>35</td>\n",
       "      <td>Returning</td>\n",
       "      <td>Business</td>\n",
       "      <td>Business</td>\n",
       "      <td>821</td>\n",
       "      <td>26</td>\n",
       "      <td>39.0</td>\n",
       "      <td>...</td>\n",
       "      <td>5</td>\n",
       "      <td>4</td>\n",
       "      <td>5</td>\n",
       "      <td>5</td>\n",
       "      <td>3</td>\n",
       "      <td>5</td>\n",
       "      <td>2</td>\n",
       "      <td>5</td>\n",
       "      <td>5</td>\n",
       "      <td>Satisfied</td>\n",
       "    </tr>\n",
       "    <tr>\n",
       "      <th>2</th>\n",
       "      <td>2</td>\n",
       "      <td>3</td>\n",
       "      <td>Male</td>\n",
       "      <td>41</td>\n",
       "      <td>Returning</td>\n",
       "      <td>Business</td>\n",
       "      <td>Business</td>\n",
       "      <td>853</td>\n",
       "      <td>0</td>\n",
       "      <td>0.0</td>\n",
       "      <td>...</td>\n",
       "      <td>3</td>\n",
       "      <td>5</td>\n",
       "      <td>3</td>\n",
       "      <td>5</td>\n",
       "      <td>5</td>\n",
       "      <td>3</td>\n",
       "      <td>4</td>\n",
       "      <td>3</td>\n",
       "      <td>3</td>\n",
       "      <td>Satisfied</td>\n",
       "    </tr>\n",
       "    <tr>\n",
       "      <th>3</th>\n",
       "      <td>3</td>\n",
       "      <td>4</td>\n",
       "      <td>Male</td>\n",
       "      <td>50</td>\n",
       "      <td>Returning</td>\n",
       "      <td>Business</td>\n",
       "      <td>Business</td>\n",
       "      <td>1905</td>\n",
       "      <td>0</td>\n",
       "      <td>0.0</td>\n",
       "      <td>...</td>\n",
       "      <td>5</td>\n",
       "      <td>5</td>\n",
       "      <td>5</td>\n",
       "      <td>4</td>\n",
       "      <td>4</td>\n",
       "      <td>5</td>\n",
       "      <td>2</td>\n",
       "      <td>5</td>\n",
       "      <td>5</td>\n",
       "      <td>Satisfied</td>\n",
       "    </tr>\n",
       "    <tr>\n",
       "      <th>4</th>\n",
       "      <td>4</td>\n",
       "      <td>5</td>\n",
       "      <td>Female</td>\n",
       "      <td>49</td>\n",
       "      <td>Returning</td>\n",
       "      <td>Business</td>\n",
       "      <td>Business</td>\n",
       "      <td>3470</td>\n",
       "      <td>0</td>\n",
       "      <td>1.0</td>\n",
       "      <td>...</td>\n",
       "      <td>3</td>\n",
       "      <td>4</td>\n",
       "      <td>4</td>\n",
       "      <td>5</td>\n",
       "      <td>4</td>\n",
       "      <td>3</td>\n",
       "      <td>3</td>\n",
       "      <td>3</td>\n",
       "      <td>3</td>\n",
       "      <td>Satisfied</td>\n",
       "    </tr>\n",
       "  </tbody>\n",
       "</table>\n",
       "<p>5 rows × 25 columns</p>\n",
       "</div>"
      ],
      "text/plain": [
       "   Unnamed: 0  ID  Gender  Age Customer Type Type of Travel     Class  \\\n",
       "0           0   1    Male   48    First-time       Business  Business   \n",
       "1           1   2  Female   35     Returning       Business  Business   \n",
       "2           2   3    Male   41     Returning       Business  Business   \n",
       "3           3   4    Male   50     Returning       Business  Business   \n",
       "4           4   5  Female   49     Returning       Business  Business   \n",
       "\n",
       "   Flight Distance  Departure Delay  Arrival Delay  ...  On-board Service  \\\n",
       "0              821                2            5.0  ...                 3   \n",
       "1              821               26           39.0  ...                 5   \n",
       "2              853                0            0.0  ...                 3   \n",
       "3             1905                0            0.0  ...                 5   \n",
       "4             3470                0            1.0  ...                 3   \n",
       "\n",
       "   Seat Comfort  Leg Room Service  Cleanliness  Food and Drink  \\\n",
       "0             5                 2            5               5   \n",
       "1             4                 5            5               3   \n",
       "2             5                 3            5               5   \n",
       "3             5                 5            4               4   \n",
       "4             4                 4            5               4   \n",
       "\n",
       "   In-flight Service  In-flight Wifi Service  In-flight Entertainment  \\\n",
       "0                  5                       3                        5   \n",
       "1                  5                       2                        5   \n",
       "2                  3                       4                        3   \n",
       "3                  5                       2                        5   \n",
       "4                  3                       3                        3   \n",
       "\n",
       "   Baggage Handling             Satisfaction  \n",
       "0                 5  Neutral or Dissatisfied  \n",
       "1                 5                Satisfied  \n",
       "2                 3                Satisfied  \n",
       "3                 5                Satisfied  \n",
       "4                 3                Satisfied  \n",
       "\n",
       "[5 rows x 25 columns]"
      ]
     },
     "execution_count": 44,
     "metadata": {},
     "output_type": "execute_result"
    }
   ],
   "source": [
    "df.head()"
   ]
  },
  {
   "cell_type": "code",
   "execution_count": 45,
   "metadata": {},
   "outputs": [
    {
     "name": "stdout",
     "output_type": "stream",
     "text": [
      "<class 'pandas.core.frame.DataFrame'>\n",
      "RangeIndex: 129880 entries, 0 to 129879\n",
      "Data columns (total 25 columns):\n",
      " #   Column                                  Non-Null Count   Dtype  \n",
      "---  ------                                  --------------   -----  \n",
      " 0   Unnamed: 0                              129880 non-null  int64  \n",
      " 1   ID                                      129880 non-null  int64  \n",
      " 2   Gender                                  129880 non-null  object \n",
      " 3   Age                                     129880 non-null  int64  \n",
      " 4   Customer Type                           129880 non-null  object \n",
      " 5   Type of Travel                          129880 non-null  object \n",
      " 6   Class                                   129880 non-null  object \n",
      " 7   Flight Distance                         129880 non-null  int64  \n",
      " 8   Departure Delay                         129880 non-null  int64  \n",
      " 9   Arrival Delay                           129487 non-null  float64\n",
      " 10  Departure and Arrival Time Convenience  129880 non-null  int64  \n",
      " 11  Ease of Online Booking                  129880 non-null  int64  \n",
      " 12  Check-in Service                        129880 non-null  int64  \n",
      " 13  Online Boarding                         129880 non-null  int64  \n",
      " 14  Gate Location                           129880 non-null  int64  \n",
      " 15  On-board Service                        129880 non-null  int64  \n",
      " 16  Seat Comfort                            129880 non-null  int64  \n",
      " 17  Leg Room Service                        129880 non-null  int64  \n",
      " 18  Cleanliness                             129880 non-null  int64  \n",
      " 19  Food and Drink                          129880 non-null  int64  \n",
      " 20  In-flight Service                       129880 non-null  int64  \n",
      " 21  In-flight Wifi Service                  129880 non-null  int64  \n",
      " 22  In-flight Entertainment                 129880 non-null  int64  \n",
      " 23  Baggage Handling                        129880 non-null  int64  \n",
      " 24  Satisfaction                            129880 non-null  object \n",
      "dtypes: float64(1), int64(19), object(5)\n",
      "memory usage: 24.8+ MB\n"
     ]
    }
   ],
   "source": [
    "df.info()"
   ]
  },
  {
   "cell_type": "code",
   "execution_count": 46,
   "metadata": {},
   "outputs": [
    {
     "data": {
      "text/plain": [
       "(129880, 25)"
      ]
     },
     "execution_count": 46,
     "metadata": {},
     "output_type": "execute_result"
    }
   ],
   "source": [
    "df.shape"
   ]
  },
  {
   "cell_type": "code",
   "execution_count": 47,
   "metadata": {},
   "outputs": [
    {
     "data": {
      "text/plain": [
       "Unnamed: 0                                  int64\n",
       "ID                                          int64\n",
       "Gender                                     object\n",
       "Age                                         int64\n",
       "Customer Type                              object\n",
       "Type of Travel                             object\n",
       "Class                                      object\n",
       "Flight Distance                             int64\n",
       "Departure Delay                             int64\n",
       "Arrival Delay                             float64\n",
       "Departure and Arrival Time Convenience      int64\n",
       "Ease of Online Booking                      int64\n",
       "Check-in Service                            int64\n",
       "Online Boarding                             int64\n",
       "Gate Location                               int64\n",
       "On-board Service                            int64\n",
       "Seat Comfort                                int64\n",
       "Leg Room Service                            int64\n",
       "Cleanliness                                 int64\n",
       "Food and Drink                              int64\n",
       "In-flight Service                           int64\n",
       "In-flight Wifi Service                      int64\n",
       "In-flight Entertainment                     int64\n",
       "Baggage Handling                            int64\n",
       "Satisfaction                               object\n",
       "dtype: object"
      ]
     },
     "execution_count": 47,
     "metadata": {},
     "output_type": "execute_result"
    }
   ],
   "source": [
    "df.dtypes"
   ]
  },
  {
   "cell_type": "code",
   "execution_count": 48,
   "metadata": {},
   "outputs": [
    {
     "data": {
      "text/plain": [
       "Unnamed: 0                                  0\n",
       "ID                                          0\n",
       "Gender                                      0\n",
       "Age                                         0\n",
       "Customer Type                               0\n",
       "Type of Travel                              0\n",
       "Class                                       0\n",
       "Flight Distance                             0\n",
       "Departure Delay                             0\n",
       "Arrival Delay                             393\n",
       "Departure and Arrival Time Convenience      0\n",
       "Ease of Online Booking                      0\n",
       "Check-in Service                            0\n",
       "Online Boarding                             0\n",
       "Gate Location                               0\n",
       "On-board Service                            0\n",
       "Seat Comfort                                0\n",
       "Leg Room Service                            0\n",
       "Cleanliness                                 0\n",
       "Food and Drink                              0\n",
       "In-flight Service                           0\n",
       "In-flight Wifi Service                      0\n",
       "In-flight Entertainment                     0\n",
       "Baggage Handling                            0\n",
       "Satisfaction                                0\n",
       "dtype: int64"
      ]
     },
     "execution_count": 48,
     "metadata": {},
     "output_type": "execute_result"
    }
   ],
   "source": [
    "df.isnull().sum()"
   ]
  },
  {
   "cell_type": "code",
   "execution_count": 49,
   "metadata": {},
   "outputs": [
    {
     "data": {
      "text/plain": [
       "Unnamed: 0                                0\n",
       "ID                                        0\n",
       "Gender                                    0\n",
       "Age                                       0\n",
       "Customer Type                             0\n",
       "Type of Travel                            0\n",
       "Class                                     0\n",
       "Flight Distance                           0\n",
       "Departure Delay                           0\n",
       "Arrival Delay                             0\n",
       "Departure and Arrival Time Convenience    0\n",
       "Ease of Online Booking                    0\n",
       "Check-in Service                          0\n",
       "Online Boarding                           0\n",
       "Gate Location                             0\n",
       "On-board Service                          0\n",
       "Seat Comfort                              0\n",
       "Leg Room Service                          0\n",
       "Cleanliness                               0\n",
       "Food and Drink                            0\n",
       "In-flight Service                         0\n",
       "In-flight Wifi Service                    0\n",
       "In-flight Entertainment                   0\n",
       "Baggage Handling                          0\n",
       "Satisfaction                              0\n",
       "dtype: int64"
      ]
     },
     "execution_count": 49,
     "metadata": {},
     "output_type": "execute_result"
    }
   ],
   "source": [
    "df=df.dropna(how='any')\n",
    "df.isnull().sum()"
   ]
  },
  {
   "cell_type": "code",
   "execution_count": 50,
   "metadata": {},
   "outputs": [
    {
     "name": "stdout",
     "output_type": "stream",
     "text": [
      "<class 'pandas.core.frame.DataFrame'>\n",
      "Int64Index: 129487 entries, 0 to 129879\n",
      "Data columns (total 23 columns):\n",
      " #   Column                                  Non-Null Count   Dtype  \n",
      "---  ------                                  --------------   -----  \n",
      " 0   Gender                                  129487 non-null  object \n",
      " 1   Age                                     129487 non-null  int64  \n",
      " 2   Customer Type                           129487 non-null  object \n",
      " 3   Type of Travel                          129487 non-null  object \n",
      " 4   Class                                   129487 non-null  object \n",
      " 5   Flight Distance                         129487 non-null  int64  \n",
      " 6   Departure Delay                         129487 non-null  int64  \n",
      " 7   Arrival Delay                           129487 non-null  float64\n",
      " 8   Departure and Arrival Time Convenience  129487 non-null  int64  \n",
      " 9   Ease of Online Booking                  129487 non-null  int64  \n",
      " 10  Check-in Service                        129487 non-null  int64  \n",
      " 11  Online Boarding                         129487 non-null  int64  \n",
      " 12  Gate Location                           129487 non-null  int64  \n",
      " 13  On-board Service                        129487 non-null  int64  \n",
      " 14  Seat Comfort                            129487 non-null  int64  \n",
      " 15  Leg Room Service                        129487 non-null  int64  \n",
      " 16  Cleanliness                             129487 non-null  int64  \n",
      " 17  Food and Drink                          129487 non-null  int64  \n",
      " 18  In-flight Service                       129487 non-null  int64  \n",
      " 19  In-flight Wifi Service                  129487 non-null  int64  \n",
      " 20  In-flight Entertainment                 129487 non-null  int64  \n",
      " 21  Baggage Handling                        129487 non-null  int64  \n",
      " 22  Satisfaction                            129487 non-null  object \n",
      "dtypes: float64(1), int64(17), object(5)\n",
      "memory usage: 23.7+ MB\n"
     ]
    }
   ],
   "source": [
    "df = df.drop(['Unnamed: 0', 'ID'], axis = 1)\n",
    "df.info()"
   ]
  },
  {
   "cell_type": "markdown",
   "metadata": {},
   "source": [
    "Of our target variable, Satisfaction, how many passengers are Satisfied and how many are Neutral or Dissatisfied?  Let's find out."
   ]
  },
  {
   "cell_type": "code",
   "execution_count": 66,
   "metadata": {},
   "outputs": [
    {
     "data": {
      "image/png": "[encoded data removed]",
      "text/plain": [
       "<Figure size 504x504 with 1 Axes>"
      ]
     },
     "metadata": {},
     "output_type": "display_data"
    }
   ],
   "source": [
    "labels = df['Satisfaction'].value_counts().index\n",
    "sizes = df['Satisfaction'].value_counts()\n",
    "plt.figure(figsize = (7,7))\n",
    "plt.pie(sizes, labels=labels, autopct='%1.1f%%',colors = ['#06C2AC','#40E0D0'])\n",
    "plt.title('Satisfied Passengers vs Neutral or Dissatisfied Passengers',color = 'black',fontsize = 18);"
   ]
  },
  {
   "cell_type": "markdown",
   "metadata": {},
   "source": [
    "# 5. Dummy Variables"
   ]
  },
  {
   "cell_type": "markdown",
   "metadata": {},
   "source": [
    "To use categorical variables in a machine learning model, we first need to represent them in a quantitative way.  In order to do that, we use dummy variables.\n",
    "\n",
    "There are four categorical columns in our data: Gender, Customer Type, Type of Travel, Class, and Satisfaction.  Each of these columns will need to be converted to a dummy variable."
   ]
  },
  {
   "cell_type": "code",
   "execution_count": 51,
   "metadata": {},
   "outputs": [],
   "source": [
    "airline_data_encoded = pd.get_dummies(df, columns=['Gender', 'Customer Type', 'Type of Travel', 'Class'])"
   ]
  },
  {
   "cell_type": "code",
   "execution_count": 52,
   "metadata": {
    "scrolled": true
   },
   "outputs": [
    {
     "name": "stdout",
     "output_type": "stream",
     "text": [
      "Index(['Age', 'Flight Distance', 'Departure Delay', 'Arrival Delay',\n",
      "       'Departure and Arrival Time Convenience', 'Ease of Online Booking',\n",
      "       'Check-in Service', 'Online Boarding', 'Gate Location',\n",
      "       'On-board Service', 'Seat Comfort', 'Leg Room Service', 'Cleanliness',\n",
      "       'Food and Drink', 'In-flight Service', 'In-flight Wifi Service',\n",
      "       'In-flight Entertainment', 'Baggage Handling', 'Satisfaction',\n",
      "       'Gender_Female', 'Gender_Male', 'Customer Type_First-time',\n",
      "       'Customer Type_Returning', 'Type of Travel_Business',\n",
      "       'Type of Travel_Personal', 'Class_Business', 'Class_Economy',\n",
      "       'Class_Economy Plus'],\n",
      "      dtype='object')\n"
     ]
    }
   ],
   "source": [
    "print(airline_data_encoded.columns)"
   ]
  },
  {
   "cell_type": "code",
   "execution_count": 53,
   "metadata": {},
   "outputs": [
    {
     "data": {
      "text/html": [
       "<div>\n",
       "<style scoped>\n",
       "    .dataframe tbody tr th:only-of-type {\n",
       "        vertical-align: middle;\n",
       "    }\n",
       "\n",
       "    .dataframe tbody tr th {\n",
       "        vertical-align: top;\n",
       "    }\n",
       "\n",
       "    .dataframe thead th {\n",
       "        text-align: right;\n",
       "    }\n",
       "</style>\n",
       "<table border=\"1\" class=\"dataframe\">\n",
       "  <thead>\n",
       "    <tr style=\"text-align: right;\">\n",
       "      <th></th>\n",
       "      <th>Age</th>\n",
       "      <th>Flight Distance</th>\n",
       "      <th>Departure Delay</th>\n",
       "      <th>Arrival Delay</th>\n",
       "      <th>Departure and Arrival Time Convenience</th>\n",
       "      <th>Ease of Online Booking</th>\n",
       "      <th>Check-in Service</th>\n",
       "      <th>Online Boarding</th>\n",
       "      <th>Gate Location</th>\n",
       "      <th>On-board Service</th>\n",
       "      <th>...</th>\n",
       "      <th>Satisfaction</th>\n",
       "      <th>Gender_Female</th>\n",
       "      <th>Gender_Male</th>\n",
       "      <th>Customer Type_First-time</th>\n",
       "      <th>Customer Type_Returning</th>\n",
       "      <th>Type of Travel_Business</th>\n",
       "      <th>Type of Travel_Personal</th>\n",
       "      <th>Class_Business</th>\n",
       "      <th>Class_Economy</th>\n",
       "      <th>Class_Economy Plus</th>\n",
       "    </tr>\n",
       "  </thead>\n",
       "  <tbody>\n",
       "    <tr>\n",
       "      <th>0</th>\n",
       "      <td>48</td>\n",
       "      <td>821</td>\n",
       "      <td>2</td>\n",
       "      <td>5.0</td>\n",
       "      <td>3</td>\n",
       "      <td>3</td>\n",
       "      <td>4</td>\n",
       "      <td>3</td>\n",
       "      <td>3</td>\n",
       "      <td>3</td>\n",
       "      <td>...</td>\n",
       "      <td>Neutral or Dissatisfied</td>\n",
       "      <td>0</td>\n",
       "      <td>1</td>\n",
       "      <td>1</td>\n",
       "      <td>0</td>\n",
       "      <td>1</td>\n",
       "      <td>0</td>\n",
       "      <td>1</td>\n",
       "      <td>0</td>\n",
       "      <td>0</td>\n",
       "    </tr>\n",
       "    <tr>\n",
       "      <th>1</th>\n",
       "      <td>35</td>\n",
       "      <td>821</td>\n",
       "      <td>26</td>\n",
       "      <td>39.0</td>\n",
       "      <td>2</td>\n",
       "      <td>2</td>\n",
       "      <td>3</td>\n",
       "      <td>5</td>\n",
       "      <td>2</td>\n",
       "      <td>5</td>\n",
       "      <td>...</td>\n",
       "      <td>Satisfied</td>\n",
       "      <td>1</td>\n",
       "      <td>0</td>\n",
       "      <td>0</td>\n",
       "      <td>1</td>\n",
       "      <td>1</td>\n",
       "      <td>0</td>\n",
       "      <td>1</td>\n",
       "      <td>0</td>\n",
       "      <td>0</td>\n",
       "    </tr>\n",
       "    <tr>\n",
       "      <th>2</th>\n",
       "      <td>41</td>\n",
       "      <td>853</td>\n",
       "      <td>0</td>\n",
       "      <td>0.0</td>\n",
       "      <td>4</td>\n",
       "      <td>4</td>\n",
       "      <td>4</td>\n",
       "      <td>5</td>\n",
       "      <td>4</td>\n",
       "      <td>3</td>\n",
       "      <td>...</td>\n",
       "      <td>Satisfied</td>\n",
       "      <td>0</td>\n",
       "      <td>1</td>\n",
       "      <td>0</td>\n",
       "      <td>1</td>\n",
       "      <td>1</td>\n",
       "      <td>0</td>\n",
       "      <td>1</td>\n",
       "      <td>0</td>\n",
       "      <td>0</td>\n",
       "    </tr>\n",
       "    <tr>\n",
       "      <th>3</th>\n",
       "      <td>50</td>\n",
       "      <td>1905</td>\n",
       "      <td>0</td>\n",
       "      <td>0.0</td>\n",
       "      <td>2</td>\n",
       "      <td>2</td>\n",
       "      <td>3</td>\n",
       "      <td>4</td>\n",
       "      <td>2</td>\n",
       "      <td>5</td>\n",
       "      <td>...</td>\n",
       "      <td>Satisfied</td>\n",
       "      <td>0</td>\n",
       "      <td>1</td>\n",
       "      <td>0</td>\n",
       "      <td>1</td>\n",
       "      <td>1</td>\n",
       "      <td>0</td>\n",
       "      <td>1</td>\n",
       "      <td>0</td>\n",
       "      <td>0</td>\n",
       "    </tr>\n",
       "    <tr>\n",
       "      <th>4</th>\n",
       "      <td>49</td>\n",
       "      <td>3470</td>\n",
       "      <td>0</td>\n",
       "      <td>1.0</td>\n",
       "      <td>3</td>\n",
       "      <td>3</td>\n",
       "      <td>3</td>\n",
       "      <td>5</td>\n",
       "      <td>3</td>\n",
       "      <td>3</td>\n",
       "      <td>...</td>\n",
       "      <td>Satisfied</td>\n",
       "      <td>1</td>\n",
       "      <td>0</td>\n",
       "      <td>0</td>\n",
       "      <td>1</td>\n",
       "      <td>1</td>\n",
       "      <td>0</td>\n",
       "      <td>1</td>\n",
       "      <td>0</td>\n",
       "      <td>0</td>\n",
       "    </tr>\n",
       "  </tbody>\n",
       "</table>\n",
       "<p>5 rows × 28 columns</p>\n",
       "</div>"
      ],
      "text/plain": [
       "   Age  Flight Distance  Departure Delay  Arrival Delay  \\\n",
       "0   48              821                2            5.0   \n",
       "1   35              821               26           39.0   \n",
       "2   41              853                0            0.0   \n",
       "3   50             1905                0            0.0   \n",
       "4   49             3470                0            1.0   \n",
       "\n",
       "   Departure and Arrival Time Convenience  Ease of Online Booking  \\\n",
       "0                                       3                       3   \n",
       "1                                       2                       2   \n",
       "2                                       4                       4   \n",
       "3                                       2                       2   \n",
       "4                                       3                       3   \n",
       "\n",
       "   Check-in Service  Online Boarding  Gate Location  On-board Service  ...  \\\n",
       "0                 4                3              3                 3  ...   \n",
       "1                 3                5              2                 5  ...   \n",
       "2                 4                5              4                 3  ...   \n",
       "3                 3                4              2                 5  ...   \n",
       "4                 3                5              3                 3  ...   \n",
       "\n",
       "              Satisfaction  Gender_Female  Gender_Male  \\\n",
       "0  Neutral or Dissatisfied              0            1   \n",
       "1                Satisfied              1            0   \n",
       "2                Satisfied              0            1   \n",
       "3                Satisfied              0            1   \n",
       "4                Satisfied              1            0   \n",
       "\n",
       "   Customer Type_First-time  Customer Type_Returning  Type of Travel_Business  \\\n",
       "0                         1                        0                        1   \n",
       "1                         0                        1                        1   \n",
       "2                         0                        1                        1   \n",
       "3                         0                        1                        1   \n",
       "4                         0                        1                        1   \n",
       "\n",
       "   Type of Travel_Personal  Class_Business Class_Economy  Class_Economy Plus  \n",
       "0                        0               1             0                   0  \n",
       "1                        0               1             0                   0  \n",
       "2                        0               1             0                   0  \n",
       "3                        0               1             0                   0  \n",
       "4                        0               1             0                   0  \n",
       "\n",
       "[5 rows x 28 columns]"
      ]
     },
     "execution_count": 53,
     "metadata": {},
     "output_type": "execute_result"
    }
   ],
   "source": [
    "airline_data_encoded.head()"
   ]
  },
  {
   "cell_type": "code",
   "execution_count": 54,
   "metadata": {},
   "outputs": [
    {
     "data": {
      "text/plain": [
       "Index(['Gender', 'Age', 'Customer Type', 'Type of Travel', 'Class',\n",
       "       'Flight Distance', 'Departure Delay', 'Arrival Delay',\n",
       "       'Departure and Arrival Time Convenience', 'Ease of Online Booking',\n",
       "       'Check-in Service', 'Online Boarding', 'Gate Location',\n",
       "       'On-board Service', 'Seat Comfort', 'Leg Room Service', 'Cleanliness',\n",
       "       'Food and Drink', 'In-flight Service', 'In-flight Wifi Service',\n",
       "       'In-flight Entertainment', 'Baggage Handling', 'Satisfaction'],\n",
       "      dtype='object')"
      ]
     },
     "execution_count": 54,
     "metadata": {},
     "output_type": "execute_result"
    }
   ],
   "source": [
    "df.columns"
   ]
  },
  {
   "cell_type": "code",
   "execution_count": 55,
   "metadata": {},
   "outputs": [
    {
     "data": {
      "text/html": [
       "<div>\n",
       "<style scoped>\n",
       "    .dataframe tbody tr th:only-of-type {\n",
       "        vertical-align: middle;\n",
       "    }\n",
       "\n",
       "    .dataframe tbody tr th {\n",
       "        vertical-align: top;\n",
       "    }\n",
       "\n",
       "    .dataframe thead th {\n",
       "        text-align: right;\n",
       "    }\n",
       "</style>\n",
       "<table border=\"1\" class=\"dataframe\">\n",
       "  <thead>\n",
       "    <tr style=\"text-align: right;\">\n",
       "      <th></th>\n",
       "      <th>Age</th>\n",
       "      <th>Flight Distance</th>\n",
       "      <th>Departure Delay</th>\n",
       "      <th>Arrival Delay</th>\n",
       "      <th>Departure and Arrival Time Convenience</th>\n",
       "      <th>Ease of Online Booking</th>\n",
       "      <th>Check-in Service</th>\n",
       "      <th>Online Boarding</th>\n",
       "      <th>Gate Location</th>\n",
       "      <th>On-board Service</th>\n",
       "      <th>...</th>\n",
       "      <th>Satisfaction</th>\n",
       "      <th>Gender_Female</th>\n",
       "      <th>Gender_Male</th>\n",
       "      <th>Customer Type_First-time</th>\n",
       "      <th>Customer Type_Returning</th>\n",
       "      <th>Type of Travel_Business</th>\n",
       "      <th>Type of Travel_Personal</th>\n",
       "      <th>Class_Business</th>\n",
       "      <th>Class_Economy</th>\n",
       "      <th>Class_Economy Plus</th>\n",
       "    </tr>\n",
       "  </thead>\n",
       "  <tbody>\n",
       "    <tr>\n",
       "      <th>0</th>\n",
       "      <td>48</td>\n",
       "      <td>821</td>\n",
       "      <td>2</td>\n",
       "      <td>5.0</td>\n",
       "      <td>3</td>\n",
       "      <td>3</td>\n",
       "      <td>4</td>\n",
       "      <td>3</td>\n",
       "      <td>3</td>\n",
       "      <td>3</td>\n",
       "      <td>...</td>\n",
       "      <td>Neutral or Dissatisfied</td>\n",
       "      <td>0</td>\n",
       "      <td>1</td>\n",
       "      <td>1</td>\n",
       "      <td>0</td>\n",
       "      <td>1</td>\n",
       "      <td>0</td>\n",
       "      <td>1</td>\n",
       "      <td>0</td>\n",
       "      <td>0</td>\n",
       "    </tr>\n",
       "    <tr>\n",
       "      <th>1</th>\n",
       "      <td>35</td>\n",
       "      <td>821</td>\n",
       "      <td>26</td>\n",
       "      <td>39.0</td>\n",
       "      <td>2</td>\n",
       "      <td>2</td>\n",
       "      <td>3</td>\n",
       "      <td>5</td>\n",
       "      <td>2</td>\n",
       "      <td>5</td>\n",
       "      <td>...</td>\n",
       "      <td>Satisfied</td>\n",
       "      <td>1</td>\n",
       "      <td>0</td>\n",
       "      <td>0</td>\n",
       "      <td>1</td>\n",
       "      <td>1</td>\n",
       "      <td>0</td>\n",
       "      <td>1</td>\n",
       "      <td>0</td>\n",
       "      <td>0</td>\n",
       "    </tr>\n",
       "    <tr>\n",
       "      <th>2</th>\n",
       "      <td>41</td>\n",
       "      <td>853</td>\n",
       "      <td>0</td>\n",
       "      <td>0.0</td>\n",
       "      <td>4</td>\n",
       "      <td>4</td>\n",
       "      <td>4</td>\n",
       "      <td>5</td>\n",
       "      <td>4</td>\n",
       "      <td>3</td>\n",
       "      <td>...</td>\n",
       "      <td>Satisfied</td>\n",
       "      <td>0</td>\n",
       "      <td>1</td>\n",
       "      <td>0</td>\n",
       "      <td>1</td>\n",
       "      <td>1</td>\n",
       "      <td>0</td>\n",
       "      <td>1</td>\n",
       "      <td>0</td>\n",
       "      <td>0</td>\n",
       "    </tr>\n",
       "    <tr>\n",
       "      <th>3</th>\n",
       "      <td>50</td>\n",
       "      <td>1905</td>\n",
       "      <td>0</td>\n",
       "      <td>0.0</td>\n",
       "      <td>2</td>\n",
       "      <td>2</td>\n",
       "      <td>3</td>\n",
       "      <td>4</td>\n",
       "      <td>2</td>\n",
       "      <td>5</td>\n",
       "      <td>...</td>\n",
       "      <td>Satisfied</td>\n",
       "      <td>0</td>\n",
       "      <td>1</td>\n",
       "      <td>0</td>\n",
       "      <td>1</td>\n",
       "      <td>1</td>\n",
       "      <td>0</td>\n",
       "      <td>1</td>\n",
       "      <td>0</td>\n",
       "      <td>0</td>\n",
       "    </tr>\n",
       "    <tr>\n",
       "      <th>4</th>\n",
       "      <td>49</td>\n",
       "      <td>3470</td>\n",
       "      <td>0</td>\n",
       "      <td>1.0</td>\n",
       "      <td>3</td>\n",
       "      <td>3</td>\n",
       "      <td>3</td>\n",
       "      <td>5</td>\n",
       "      <td>3</td>\n",
       "      <td>3</td>\n",
       "      <td>...</td>\n",
       "      <td>Satisfied</td>\n",
       "      <td>1</td>\n",
       "      <td>0</td>\n",
       "      <td>0</td>\n",
       "      <td>1</td>\n",
       "      <td>1</td>\n",
       "      <td>0</td>\n",
       "      <td>1</td>\n",
       "      <td>0</td>\n",
       "      <td>0</td>\n",
       "    </tr>\n",
       "    <tr>\n",
       "      <th>...</th>\n",
       "      <td>...</td>\n",
       "      <td>...</td>\n",
       "      <td>...</td>\n",
       "      <td>...</td>\n",
       "      <td>...</td>\n",
       "      <td>...</td>\n",
       "      <td>...</td>\n",
       "      <td>...</td>\n",
       "      <td>...</td>\n",
       "      <td>...</td>\n",
       "      <td>...</td>\n",
       "      <td>...</td>\n",
       "      <td>...</td>\n",
       "      <td>...</td>\n",
       "      <td>...</td>\n",
       "      <td>...</td>\n",
       "      <td>...</td>\n",
       "      <td>...</td>\n",
       "      <td>...</td>\n",
       "      <td>...</td>\n",
       "      <td>...</td>\n",
       "    </tr>\n",
       "    <tr>\n",
       "      <th>129875</th>\n",
       "      <td>28</td>\n",
       "      <td>447</td>\n",
       "      <td>2</td>\n",
       "      <td>3.0</td>\n",
       "      <td>4</td>\n",
       "      <td>4</td>\n",
       "      <td>4</td>\n",
       "      <td>4</td>\n",
       "      <td>2</td>\n",
       "      <td>5</td>\n",
       "      <td>...</td>\n",
       "      <td>Neutral or Dissatisfied</td>\n",
       "      <td>0</td>\n",
       "      <td>1</td>\n",
       "      <td>0</td>\n",
       "      <td>1</td>\n",
       "      <td>0</td>\n",
       "      <td>1</td>\n",
       "      <td>0</td>\n",
       "      <td>0</td>\n",
       "      <td>1</td>\n",
       "    </tr>\n",
       "    <tr>\n",
       "      <th>129876</th>\n",
       "      <td>41</td>\n",
       "      <td>308</td>\n",
       "      <td>0</td>\n",
       "      <td>0.0</td>\n",
       "      <td>5</td>\n",
       "      <td>3</td>\n",
       "      <td>5</td>\n",
       "      <td>3</td>\n",
       "      <td>4</td>\n",
       "      <td>5</td>\n",
       "      <td>...</td>\n",
       "      <td>Neutral or Dissatisfied</td>\n",
       "      <td>0</td>\n",
       "      <td>1</td>\n",
       "      <td>0</td>\n",
       "      <td>1</td>\n",
       "      <td>0</td>\n",
       "      <td>1</td>\n",
       "      <td>0</td>\n",
       "      <td>0</td>\n",
       "      <td>1</td>\n",
       "    </tr>\n",
       "    <tr>\n",
       "      <th>129877</th>\n",
       "      <td>42</td>\n",
       "      <td>337</td>\n",
       "      <td>6</td>\n",
       "      <td>14.0</td>\n",
       "      <td>5</td>\n",
       "      <td>2</td>\n",
       "      <td>4</td>\n",
       "      <td>2</td>\n",
       "      <td>1</td>\n",
       "      <td>3</td>\n",
       "      <td>...</td>\n",
       "      <td>Neutral or Dissatisfied</td>\n",
       "      <td>0</td>\n",
       "      <td>1</td>\n",
       "      <td>0</td>\n",
       "      <td>1</td>\n",
       "      <td>0</td>\n",
       "      <td>1</td>\n",
       "      <td>0</td>\n",
       "      <td>0</td>\n",
       "      <td>1</td>\n",
       "    </tr>\n",
       "    <tr>\n",
       "      <th>129878</th>\n",
       "      <td>50</td>\n",
       "      <td>337</td>\n",
       "      <td>31</td>\n",
       "      <td>22.0</td>\n",
       "      <td>4</td>\n",
       "      <td>4</td>\n",
       "      <td>3</td>\n",
       "      <td>4</td>\n",
       "      <td>1</td>\n",
       "      <td>4</td>\n",
       "      <td>...</td>\n",
       "      <td>Satisfied</td>\n",
       "      <td>0</td>\n",
       "      <td>1</td>\n",
       "      <td>0</td>\n",
       "      <td>1</td>\n",
       "      <td>0</td>\n",
       "      <td>1</td>\n",
       "      <td>0</td>\n",
       "      <td>0</td>\n",
       "      <td>1</td>\n",
       "    </tr>\n",
       "    <tr>\n",
       "      <th>129879</th>\n",
       "      <td>20</td>\n",
       "      <td>337</td>\n",
       "      <td>0</td>\n",
       "      <td>0.0</td>\n",
       "      <td>1</td>\n",
       "      <td>3</td>\n",
       "      <td>4</td>\n",
       "      <td>3</td>\n",
       "      <td>2</td>\n",
       "      <td>4</td>\n",
       "      <td>...</td>\n",
       "      <td>Neutral or Dissatisfied</td>\n",
       "      <td>1</td>\n",
       "      <td>0</td>\n",
       "      <td>0</td>\n",
       "      <td>1</td>\n",
       "      <td>0</td>\n",
       "      <td>1</td>\n",
       "      <td>0</td>\n",
       "      <td>0</td>\n",
       "      <td>1</td>\n",
       "    </tr>\n",
       "  </tbody>\n",
       "</table>\n",
       "<p>129487 rows × 28 columns</p>\n",
       "</div>"
      ],
      "text/plain": [
       "        Age  Flight Distance  Departure Delay  Arrival Delay  \\\n",
       "0        48              821                2            5.0   \n",
       "1        35              821               26           39.0   \n",
       "2        41              853                0            0.0   \n",
       "3        50             1905                0            0.0   \n",
       "4        49             3470                0            1.0   \n",
       "...     ...              ...              ...            ...   \n",
       "129875   28              447                2            3.0   \n",
       "129876   41              308                0            0.0   \n",
       "129877   42              337                6           14.0   \n",
       "129878   50              337               31           22.0   \n",
       "129879   20              337                0            0.0   \n",
       "\n",
       "        Departure and Arrival Time Convenience  Ease of Online Booking  \\\n",
       "0                                            3                       3   \n",
       "1                                            2                       2   \n",
       "2                                            4                       4   \n",
       "3                                            2                       2   \n",
       "4                                            3                       3   \n",
       "...                                        ...                     ...   \n",
       "129875                                       4                       4   \n",
       "129876                                       5                       3   \n",
       "129877                                       5                       2   \n",
       "129878                                       4                       4   \n",
       "129879                                       1                       3   \n",
       "\n",
       "        Check-in Service  Online Boarding  Gate Location  On-board Service  \\\n",
       "0                      4                3              3                 3   \n",
       "1                      3                5              2                 5   \n",
       "2                      4                5              4                 3   \n",
       "3                      3                4              2                 5   \n",
       "4                      3                5              3                 3   \n",
       "...                  ...              ...            ...               ...   \n",
       "129875                 4                4              2                 5   \n",
       "129876                 5                3              4                 5   \n",
       "129877                 4                2              1                 3   \n",
       "129878                 3                4              1                 4   \n",
       "129879                 4                3              2                 4   \n",
       "\n",
       "        ...             Satisfaction  Gender_Female  Gender_Male  \\\n",
       "0       ...  Neutral or Dissatisfied              0            1   \n",
       "1       ...                Satisfied              1            0   \n",
       "2       ...                Satisfied              0            1   \n",
       "3       ...                Satisfied              0            1   \n",
       "4       ...                Satisfied              1            0   \n",
       "...     ...                      ...            ...          ...   \n",
       "129875  ...  Neutral or Dissatisfied              0            1   \n",
       "129876  ...  Neutral or Dissatisfied              0            1   \n",
       "129877  ...  Neutral or Dissatisfied              0            1   \n",
       "129878  ...                Satisfied              0            1   \n",
       "129879  ...  Neutral or Dissatisfied              1            0   \n",
       "\n",
       "        Customer Type_First-time  Customer Type_Returning  \\\n",
       "0                              1                        0   \n",
       "1                              0                        1   \n",
       "2                              0                        1   \n",
       "3                              0                        1   \n",
       "4                              0                        1   \n",
       "...                          ...                      ...   \n",
       "129875                         0                        1   \n",
       "129876                         0                        1   \n",
       "129877                         0                        1   \n",
       "129878                         0                        1   \n",
       "129879                         0                        1   \n",
       "\n",
       "        Type of Travel_Business  Type of Travel_Personal  Class_Business  \\\n",
       "0                             1                        0               1   \n",
       "1                             1                        0               1   \n",
       "2                             1                        0               1   \n",
       "3                             1                        0               1   \n",
       "4                             1                        0               1   \n",
       "...                         ...                      ...             ...   \n",
       "129875                        0                        1               0   \n",
       "129876                        0                        1               0   \n",
       "129877                        0                        1               0   \n",
       "129878                        0                        1               0   \n",
       "129879                        0                        1               0   \n",
       "\n",
       "       Class_Economy  Class_Economy Plus  \n",
       "0                  0                   0  \n",
       "1                  0                   0  \n",
       "2                  0                   0  \n",
       "3                  0                   0  \n",
       "4                  0                   0  \n",
       "...              ...                 ...  \n",
       "129875             0                   1  \n",
       "129876             0                   1  \n",
       "129877             0                   1  \n",
       "129878             0                   1  \n",
       "129879             0                   1  \n",
       "\n",
       "[129487 rows x 28 columns]"
      ]
     },
     "execution_count": 55,
     "metadata": {},
     "output_type": "execute_result"
    }
   ],
   "source": [
    "airline_data_encoded"
   ]
  },
  {
   "cell_type": "markdown",
   "metadata": {},
   "source": [
    "# 6. Train/Test Split"
   ]
  },
  {
   "cell_type": "markdown",
   "metadata": {},
   "source": [
    "We need to split the data into a training set and a testing set.\n",
    "\n",
    "First, let's determine the partition sizes for a 70/30 train/test split:"
   ]
  },
  {
   "cell_type": "code",
   "execution_count": 56,
   "metadata": {},
   "outputs": [
    {
     "data": {
      "text/plain": [
       "(90640.9, 38846.1)"
      ]
     },
     "execution_count": 56,
     "metadata": {},
     "output_type": "execute_result"
    }
   ],
   "source": [
    "len(airline_data_encoded) * .7, len(airline_data_encoded) * .3"
   ]
  },
  {
   "cell_type": "code",
   "execution_count": 57,
   "metadata": {},
   "outputs": [],
   "source": [
    "airline_data_encoded = airline_data_encoded.reset_index()\n",
    "\n",
    "X_train, X_test, y_train, y_test = train_test_split(airline_data_encoded.drop(columns = ['Satisfaction']),\n",
    "                                                    airline_data_encoded.Satisfaction, stratify=airline_data_encoded.Satisfaction,\n",
    "                                                    test_size = 0.3,\n",
    "                                                    random_state = 47)"
   ]
  },
  {
   "cell_type": "markdown",
   "metadata": {},
   "source": [
    "We used our dummy variables from above in our train/test split.  We also performed a stratified train test split of the dataset.  Stratification is done for classifition machine learning problems to avoid overfitting or underfitting, as it helps to ensure that the target variable (in this case, \"Satisfaction\") will have the same distribution in our training data."
   ]
  },
  {
   "cell_type": "code",
   "execution_count": 58,
   "metadata": {},
   "outputs": [
    {
     "data": {
      "text/plain": [
       "((90640, 28), (38847, 28))"
      ]
     },
     "execution_count": 58,
     "metadata": {},
     "output_type": "execute_result"
    }
   ],
   "source": [
    "X_train.shape, X_test.shape"
   ]
  },
  {
   "cell_type": "code",
   "execution_count": 59,
   "metadata": {},
   "outputs": [
    {
     "data": {
      "text/plain": [
       "((90640,), (38847,))"
      ]
     },
     "execution_count": 59,
     "metadata": {},
     "output_type": "execute_result"
    }
   ],
   "source": [
    "y_train.shape, y_test.shape"
   ]
  },
  {
   "cell_type": "code",
   "execution_count": 60,
   "metadata": {},
   "outputs": [
    {
     "name": "stdout",
     "output_type": "stream",
     "text": [
      "\n",
      "\n",
      "[Test] Accuracy score (y_predict_test, y_test): 0.7737277009807707\n",
      "\n",
      "\n",
      "[Test] Accuracy score: (y_test, y_predict_test) 0.7737277009807707\n",
      "\n",
      "\n",
      "[Training] Accuracy score: (y_train, y_predict_training) 0.7773278905560459\n"
     ]
    }
   ],
   "source": [
    "# Construct the LogisticRegression model\n",
    "clf = LogisticRegression(max_iter=1000)\n",
    "\n",
    "# Fit the model on the training data.\n",
    "clf.fit(X_train, y_train) \n",
    "\n",
    "# Print the accuracy from the testing data.\n",
    "# Introduce variable to be reused later\n",
    "y_predict_test = clf.predict(X_test)\n",
    "print(\"\\n\")\n",
    "print(\"[Test] Accuracy score (y_predict_test, y_test):\",accuracy_score(y_predict_test, y_test))\n",
    "\n",
    "# Note the order in which the parameters must be passed\n",
    "# according to the documentation ... although there should be\n",
    "# no difference since it is a one-to-one comparison ...\n",
    "# ref: http://scikit-learn.org/stable/modules/generated/sklearn.metrics.accuracy_score.html#sklearn.metrics.accuracy_score\n",
    "print(\"\\n\")\n",
    "print(\"[Test] Accuracy score: (y_test, y_predict_test)\",accuracy_score(y_test, y_predict_test))\n",
    "\n",
    "y_predict_training = clf.predict(X_train)\n",
    "print(\"\\n\")\n",
    "print(\"[Training] Accuracy score: (y_train, y_predict_training)\",accuracy_score(y_train, y_predict_training))"
   ]
  },
  {
   "cell_type": "markdown",
   "metadata": {},
   "source": [
    "Both the training accuracy and testing accuracy are very close, meaning that there is no \"variance.\"  However, since the model's training accuracy is below 100%, that shows that there is some bias in this model."
   ]
  },
  {
   "cell_type": "code",
   "execution_count": 61,
   "metadata": {},
   "outputs": [
    {
     "name": "stdout",
     "output_type": "stream",
     "text": [
      "[Training Classification Report]\n",
      "                         precision    recall  f1-score   support\n",
      "\n",
      "Neutral or Dissatisfied       0.81      0.80      0.80     51257\n",
      "              Satisfied       0.74      0.75      0.75     39383\n",
      "\n",
      "               accuracy                           0.78     90640\n",
      "              macro avg       0.77      0.77      0.77     90640\n",
      "           weighted avg       0.78      0.78      0.78     90640\n",
      "\n",
      "[Test Classification Report]\n",
      "                         precision    recall  f1-score   support\n",
      "\n",
      "Neutral or Dissatisfied       0.81      0.79      0.80     21968\n",
      "              Satisfied       0.73      0.75      0.74     16879\n",
      "\n",
      "               accuracy                           0.77     38847\n",
      "              macro avg       0.77      0.77      0.77     38847\n",
      "           weighted avg       0.77      0.77      0.77     38847\n",
      "\n"
     ]
    }
   ],
   "source": [
    "from sklearn.metrics import classification_report\n",
    "# ref: http://scikit-learn.org/stable/modules/generated/sklearn.metrics.classification_report.html#sklearn.metrics.classification_report\n",
    "\n",
    "print(\"[Training Classification Report]\")\n",
    "print(classification_report(y_train, y_predict_training))\n",
    "\n",
    "print(\"[Test Classification Report]\")\n",
    "print(classification_report(y_test, y_predict_test))"
   ]
  },
  {
   "cell_type": "markdown",
   "metadata": {},
   "source": [
    "The above details the precision, recall, and f1-score for both the training and test datasets.  Precision refers to the number of positive class predictions that belong to the positive class, while recall refers to the number of positive class predictions made out of all the positive examples in the entire dataset.  The f1-score refers to the mean between precision and recall, and generally speaking, higher f1 scores are better.\n",
    "\n",
    "So what is the above telling us?  The precision between both datasets is the same for Neutral or Dissatisfied, while the training dataset did a little better with our target variable, Satisfied.  Furthermore, we can also see that the recall is slightly better for the training dataset with respect to the Neutral or Dissatisfied.\n",
    "\n",
    "Additionally, we can see that the precision and recall drops within each class.  The training classification report details that the precision of Neutral or Dissatisfied is 0.81, while the precision of Satisfied is only 0.74.  Similarly, the test classification report details that the precision of Neutral or Dissatisfied is 0.81, while the precision of Satisfied is 0.73.  \n",
    "\n",
    "This report is also showing us how much support there is for each variable.  As expected, the training dataset is much larger than the testing dataset.  "
   ]
  },
  {
   "cell_type": "code",
   "execution_count": 98,
   "metadata": {},
   "outputs": [
    {
     "data": {
      "text/plain": [
       "Text(0.5, 15.0, 'Predicted')"
      ]
     },
     "execution_count": 98,
     "metadata": {},
     "output_type": "execute_result"
    },
    {
     "data": {
      "image/png": "[encoded data removed]",
      "text/plain": [
       "<Figure size 432x288 with 2 Axes>"
      ]
     },
     "metadata": {
      "needs_background": "light"
     },
     "output_type": "display_data"
    }
   ],
   "source": [
    "from sklearn import metrics\n",
    "matrix = metrics.confusion_matrix(y_test, predictions)\n",
    "\n",
    "fig, ax = plt.subplots()\n",
    "\n",
    "# create heatmap\n",
    "sns.heatmap(pd.DataFrame(matrix), annot=True, cmap=\"Blues\" ,fmt='g')\n",
    "\n",
    "plt.tight_layout()\n",
    "plt.title('Confusion Matrix')\n",
    "plt.ylabel('True')\n",
    "plt.xlabel('Predicted')"
   ]
  },
  {
   "cell_type": "code",
   "execution_count": 1,
   "metadata": {},
   "outputs": [
    {
     "name": "stdout",
     "output_type": "stream",
     "text": [
      "0.8762066568847016\n"
     ]
    }
   ],
   "source": [
    "accuracy = (14156+19882)/(14156+19882+2086+2723)\n",
    "print(accuracy)"
   ]
  },
  {
   "cell_type": "markdown",
   "metadata": {},
   "source": [
    "The above depicts a confusion matrix.  Confusion matrices are useful for measuring recall, precision, and accuracy.  It is a visual representation of actual versus predicted values.  There are four elements of a confusion matrix:\n",
    "\n",
    "True Positive: The values which were actually positive and were predicted positive.\n",
    "\n",
    "False Positive: The values which were actually negative but falsely predicted as positive. Also known as Type I Error.\n",
    "\n",
    "False Negative: The values which were actually positive but falsely predicted as negative. Also known as Type II Error.\n",
    "\n",
    "True Negative: The values which were actually negative and were predicted negative.\n",
    "\n",
    "So knowing that, the above confusion matrix illustrates the following:\n",
    "\n",
    "True Positives = 14,156\n",
    "\n",
    "False Positives = 2,086\n",
    "\n",
    "False Negatives = 2,723\n",
    "\n",
    "True Negatives = 19,882\n",
    "\n",
    "The accuracy of the confusion matrix is approximately 0.8762. "
   ]
  },
  {
   "cell_type": "markdown",
   "metadata": {},
   "source": [
    "In this notebook we have examined the data, pre-processed it, performed a train/test split, and constructed a Logistic Regression model.  The Logistic Regression model fit the data fairly well, as we can see with the classification report and confusion matrix.  "
   ]
  },
  {
   "cell_type": "code",
   "execution_count": null,
   "metadata": {},
   "outputs": [],
   "source": []
  }
 ],
 "metadata": {
  "kernelspec": {
   "display_name": "Python 3",
   "language": "python",
   "name": "python3"
  },
  "language_info": {
   "codemirror_mode": {
    "name": "ipython",
    "version": 3
   },
   "file_extension": ".py",
   "mimetype": "text/x-python",
   "name": "python",
   "nbconvert_exporter": "python",
   "pygments_lexer": "ipython3",
   "version": "3.8.5"
  }
 },
 "nbformat": 4,
 "nbformat_minor": 4
}
