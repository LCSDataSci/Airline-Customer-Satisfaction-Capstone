{
 "cells": [
  {
   "cell_type": "markdown",
   "metadata": {},
   "source": [
    "# **Airline Customer Satisfaction Capstone**"
   ]
  },
  {
   "cell_type": "markdown",
   "metadata": {},
   "source": [
    "## Modeling"
   ]
  },
  {
   "cell_type": "markdown",
   "metadata": {},
   "source": [
    "INFO HERE"
   ]
  },
  {
   "cell_type": "markdown",
   "metadata": {},
   "source": [
    "## 1. Table of Contents"
   ]
  },
  {
   "cell_type": "markdown",
   "metadata": {},
   "source": [
    "[1. Table of Contents](#1.-Table-of-Contents)\n",
    "\n",
    "[2. Import Packages](#2.-Import-Packages)\n",
    "\n",
    "[3. Load Data](#3.-Load-Data)\n",
    "\n",
    "[4. Explore the Data](#4.-Explore-the-Data)\n",
    "\n",
    "[5. Resampling Techniques](#5.-Resampling-Techniques)\n",
    "\n",
    "[6. Logistic Regression](#6.-Logistic-Regression)\n",
    "\n",
    "[7. Random Forest](#7.-Random-Forest)\n",
    "\n",
    "[8. XGBoost](#8.-XGBoost)"
   ]
  },
  {
   "cell_type": "markdown",
   "metadata": {},
   "source": [
    "## 2. Import Packages"
   ]
  },
  {
   "cell_type": "code",
   "execution_count": 1,
   "metadata": {},
   "outputs": [],
   "source": [
    "import pandas as pd\n",
    "import numpy as np\n",
    "import os\n",
    "import pickle\n",
    "import matplotlib.pyplot as plt\n",
    "import seaborn as sns\n",
    "from sklearn import __version__ as sklearn_version\n",
    "from sklearn.decomposition import PCA\n",
    "from sklearn.preprocessing import scale\n",
    "from sklearn.model_selection import train_test_split, cross_validate, GridSearchCV, learning_curve\n",
    "from sklearn.preprocessing import StandardScaler, MinMaxScaler\n",
    "from sklearn.dummy import DummyRegressor\n",
    "from sklearn.linear_model import LinearRegression\n",
    "from sklearn.ensemble import RandomForestRegressor\n",
    "from sklearn.metrics import r2_score, mean_squared_error, mean_absolute_error\n",
    "from sklearn.pipeline import make_pipeline\n",
    "from sklearn.impute import SimpleImputer\n",
    "from sklearn.feature_selection import SelectKBest, f_regression\n",
    "import datetime\n",
    "from sklearn.linear_model import LogisticRegression\n",
    "from sklearn.metrics import accuracy_score\n",
    "from sklearn import metrics\n",
    "from sklearn.metrics import plot_confusion_matrix, classification_report,confusion_matrix\n",
    "from sklearn.metrics import accuracy_score ,confusion_matrix,classification_report,plot_confusion_matrix"
   ]
  },
  {
   "cell_type": "markdown",
   "metadata": {},
   "source": [
    "## 3. Load Data"
   ]
  },
  {
   "cell_type": "code",
   "execution_count": 2,
   "metadata": {},
   "outputs": [],
   "source": [
    "X_train = pd.read_csv('/Users/lauren/Desktop/X_train.csv', index_col=0)\n",
    "X_test = pd.read_csv('/Users/lauren/Desktop/X_test.csv', index_col=0)\n",
    "y_train = pd.read_csv('/Users/lauren/Desktop/y_train.csv', index_col=0)\n",
    "y_test = pd.read_csv('/Users/lauren/Desktop/y_test.csv', index_col=0)"
   ]
  },
  {
   "cell_type": "markdown",
   "metadata": {},
   "source": [
    "## 4. Explore the Data"
   ]
  },
  {
   "cell_type": "code",
   "execution_count": 3,
   "metadata": {},
   "outputs": [
    {
     "name": "stdout",
     "output_type": "stream",
     "text": [
      "<class 'pandas.core.frame.DataFrame'>\n",
      "Int64Index: 90640 entries, 107696 to 6923\n",
      "Data columns (total 28 columns):\n",
      " #   Column                                  Non-Null Count  Dtype  \n",
      "---  ------                                  --------------  -----  \n",
      " 0   index                                   90640 non-null  int64  \n",
      " 1   Age                                     90640 non-null  int64  \n",
      " 2   Flight Distance                         90640 non-null  int64  \n",
      " 3   Departure Delay                         90640 non-null  int64  \n",
      " 4   Arrival Delay                           90640 non-null  float64\n",
      " 5   Departure and Arrival Time Convenience  90640 non-null  int64  \n",
      " 6   Ease of Online Booking                  90640 non-null  int64  \n",
      " 7   Check-in Service                        90640 non-null  int64  \n",
      " 8   Online Boarding                         90640 non-null  int64  \n",
      " 9   Gate Location                           90640 non-null  int64  \n",
      " 10  On-board Service                        90640 non-null  int64  \n",
      " 11  Seat Comfort                            90640 non-null  int64  \n",
      " 12  Leg Room Service                        90640 non-null  int64  \n",
      " 13  Cleanliness                             90640 non-null  int64  \n",
      " 14  Food and Drink                          90640 non-null  int64  \n",
      " 15  In-flight Service                       90640 non-null  int64  \n",
      " 16  In-flight Wifi Service                  90640 non-null  int64  \n",
      " 17  In-flight Entertainment                 90640 non-null  int64  \n",
      " 18  Baggage Handling                        90640 non-null  int64  \n",
      " 19  Gender_Female                           90640 non-null  int64  \n",
      " 20  Gender_Male                             90640 non-null  int64  \n",
      " 21  Customer Type_First-time                90640 non-null  int64  \n",
      " 22  Customer Type_Returning                 90640 non-null  int64  \n",
      " 23  Type of Travel_Business                 90640 non-null  int64  \n",
      " 24  Type of Travel_Personal                 90640 non-null  int64  \n",
      " 25  Class_Business                          90640 non-null  int64  \n",
      " 26  Class_Economy                           90640 non-null  int64  \n",
      " 27  Class_Economy Plus                      90640 non-null  int64  \n",
      "dtypes: float64(1), int64(27)\n",
      "memory usage: 20.1 MB\n"
     ]
    }
   ],
   "source": [
    "X_train.info()"
   ]
  },
  {
   "cell_type": "code",
   "execution_count": 4,
   "metadata": {},
   "outputs": [
    {
     "name": "stdout",
     "output_type": "stream",
     "text": [
      "<class 'pandas.core.frame.DataFrame'>\n",
      "Int64Index: 38847 entries, 18831 to 79733\n",
      "Data columns (total 28 columns):\n",
      " #   Column                                  Non-Null Count  Dtype  \n",
      "---  ------                                  --------------  -----  \n",
      " 0   index                                   38847 non-null  int64  \n",
      " 1   Age                                     38847 non-null  int64  \n",
      " 2   Flight Distance                         38847 non-null  int64  \n",
      " 3   Departure Delay                         38847 non-null  int64  \n",
      " 4   Arrival Delay                           38847 non-null  float64\n",
      " 5   Departure and Arrival Time Convenience  38847 non-null  int64  \n",
      " 6   Ease of Online Booking                  38847 non-null  int64  \n",
      " 7   Check-in Service                        38847 non-null  int64  \n",
      " 8   Online Boarding                         38847 non-null  int64  \n",
      " 9   Gate Location                           38847 non-null  int64  \n",
      " 10  On-board Service                        38847 non-null  int64  \n",
      " 11  Seat Comfort                            38847 non-null  int64  \n",
      " 12  Leg Room Service                        38847 non-null  int64  \n",
      " 13  Cleanliness                             38847 non-null  int64  \n",
      " 14  Food and Drink                          38847 non-null  int64  \n",
      " 15  In-flight Service                       38847 non-null  int64  \n",
      " 16  In-flight Wifi Service                  38847 non-null  int64  \n",
      " 17  In-flight Entertainment                 38847 non-null  int64  \n",
      " 18  Baggage Handling                        38847 non-null  int64  \n",
      " 19  Gender_Female                           38847 non-null  int64  \n",
      " 20  Gender_Male                             38847 non-null  int64  \n",
      " 21  Customer Type_First-time                38847 non-null  int64  \n",
      " 22  Customer Type_Returning                 38847 non-null  int64  \n",
      " 23  Type of Travel_Business                 38847 non-null  int64  \n",
      " 24  Type of Travel_Personal                 38847 non-null  int64  \n",
      " 25  Class_Business                          38847 non-null  int64  \n",
      " 26  Class_Economy                           38847 non-null  int64  \n",
      " 27  Class_Economy Plus                      38847 non-null  int64  \n",
      "dtypes: float64(1), int64(27)\n",
      "memory usage: 8.6 MB\n"
     ]
    }
   ],
   "source": [
    "X_test.info()"
   ]
  },
  {
   "cell_type": "code",
   "execution_count": 5,
   "metadata": {},
   "outputs": [
    {
     "name": "stdout",
     "output_type": "stream",
     "text": [
      "<class 'pandas.core.frame.DataFrame'>\n",
      "Int64Index: 90640 entries, 107696 to 6923\n",
      "Data columns (total 1 columns):\n",
      " #   Column        Non-Null Count  Dtype \n",
      "---  ------        --------------  ----- \n",
      " 0   Satisfaction  90640 non-null  object\n",
      "dtypes: object(1)\n",
      "memory usage: 1.4+ MB\n"
     ]
    }
   ],
   "source": [
    "y_train.info()"
   ]
  },
  {
   "cell_type": "code",
   "execution_count": 6,
   "metadata": {},
   "outputs": [
    {
     "name": "stdout",
     "output_type": "stream",
     "text": [
      "<class 'pandas.core.frame.DataFrame'>\n",
      "Int64Index: 38847 entries, 18831 to 79733\n",
      "Data columns (total 1 columns):\n",
      " #   Column        Non-Null Count  Dtype \n",
      "---  ------        --------------  ----- \n",
      " 0   Satisfaction  38847 non-null  object\n",
      "dtypes: object(1)\n",
      "memory usage: 607.0+ KB\n"
     ]
    }
   ],
   "source": [
    "y_test.info()"
   ]
  },
  {
   "cell_type": "code",
   "execution_count": 7,
   "metadata": {},
   "outputs": [
    {
     "data": {
      "text/plain": [
       "Satisfaction           \n",
       "Neutral or Dissatisfied    51257\n",
       "Satisfied                  39383\n",
       "dtype: int64"
      ]
     },
     "execution_count": 7,
     "metadata": {},
     "output_type": "execute_result"
    }
   ],
   "source": [
    "y_train.value_counts()"
   ]
  },
  {
   "cell_type": "code",
   "execution_count": 8,
   "metadata": {},
   "outputs": [
    {
     "data": {
      "text/plain": [
       "Satisfaction           \n",
       "Neutral or Dissatisfied    21968\n",
       "Satisfied                  16879\n",
       "dtype: int64"
      ]
     },
     "execution_count": 8,
     "metadata": {},
     "output_type": "execute_result"
    }
   ],
   "source": [
    "y_test.value_counts()"
   ]
  },
  {
   "cell_type": "markdown",
   "metadata": {},
   "source": [
    "## 5. Resampling Techniques"
   ]
  },
  {
   "cell_type": "markdown",
   "metadata": {},
   "source": [
    "There are two resampling techniquest that we will use: undersampling and oversampling.  First, we will look at undersampling:"
   ]
  },
  {
   "cell_type": "markdown",
   "metadata": {},
   "source": [
    "### 5.1 Undersampling"
   ]
  },
  {
   "cell_type": "code",
   "execution_count": 9,
   "metadata": {},
   "outputs": [
    {
     "data": {
      "text/html": [
       "<div>\n",
       "<style scoped>\n",
       "    .dataframe tbody tr th:only-of-type {\n",
       "        vertical-align: middle;\n",
       "    }\n",
       "\n",
       "    .dataframe tbody tr th {\n",
       "        vertical-align: top;\n",
       "    }\n",
       "\n",
       "    .dataframe thead th {\n",
       "        text-align: right;\n",
       "    }\n",
       "</style>\n",
       "<table border=\"1\" class=\"dataframe\">\n",
       "  <thead>\n",
       "    <tr style=\"text-align: right;\">\n",
       "      <th></th>\n",
       "      <th>technique</th>\n",
       "      <th>X_train_shape</th>\n",
       "      <th>y_train_shape</th>\n",
       "      <th>Satisfied</th>\n",
       "      <th>Neutral or Dissatisfied</th>\n",
       "    </tr>\n",
       "  </thead>\n",
       "  <tbody>\n",
       "    <tr>\n",
       "      <th>0</th>\n",
       "      <td>Original Data</td>\n",
       "      <td>90640</td>\n",
       "      <td>90640</td>\n",
       "      <td>39383</td>\n",
       "      <td>51257</td>\n",
       "    </tr>\n",
       "  </tbody>\n",
       "</table>\n",
       "</div>"
      ],
      "text/plain": [
       "       technique  X_train_shape  y_train_shape  Satisfied  \\\n",
       "0  Original Data          90640          90640      39383   \n",
       "\n",
       "   Neutral or Dissatisfied  \n",
       "0                    51257  "
      ]
     },
     "execution_count": 9,
     "metadata": {},
     "output_type": "execute_result"
    }
   ],
   "source": [
    "counts_table = pd.DataFrame()\n",
    "\n",
    "counts_table['technique'] = ['Original Data']\n",
    "counts_table['X_train_shape'] = [X_train.shape[0]]\n",
    "counts_table['y_train_shape'] = [y_train.shape[0]]\n",
    "counts_table['Satisfied'] = [y_train.value_counts()[1]]\n",
    "counts_table['Neutral or Dissatisfied'] = [y_train.value_counts()[0]]\n",
    "\n",
    "counts_table"
   ]
  },
  {
   "cell_type": "code",
   "execution_count": 10,
   "metadata": {},
   "outputs": [],
   "source": [
    "from imblearn.under_sampling import RandomUnderSampler\n",
    "\n",
    "rus = RandomUnderSampler(random_state=42, replacement=True)\n",
    "\n",
    "X_train_rus, y_train_rus = rus.fit_sample(X_train, y_train)"
   ]
  },
  {
   "cell_type": "code",
   "execution_count": 11,
   "metadata": {},
   "outputs": [
    {
     "data": {
      "text/html": [
       "<div>\n",
       "<style scoped>\n",
       "    .dataframe tbody tr th:only-of-type {\n",
       "        vertical-align: middle;\n",
       "    }\n",
       "\n",
       "    .dataframe tbody tr th {\n",
       "        vertical-align: top;\n",
       "    }\n",
       "\n",
       "    .dataframe thead th {\n",
       "        text-align: right;\n",
       "    }\n",
       "</style>\n",
       "<table border=\"1\" class=\"dataframe\">\n",
       "  <thead>\n",
       "    <tr style=\"text-align: right;\">\n",
       "      <th></th>\n",
       "      <th>technique</th>\n",
       "      <th>X_train_shape</th>\n",
       "      <th>y_train_shape</th>\n",
       "      <th>Satisfied</th>\n",
       "      <th>Neutral or Dissatisfied</th>\n",
       "    </tr>\n",
       "  </thead>\n",
       "  <tbody>\n",
       "    <tr>\n",
       "      <th>0</th>\n",
       "      <td>Original Data</td>\n",
       "      <td>90640</td>\n",
       "      <td>90640</td>\n",
       "      <td>39383</td>\n",
       "      <td>51257</td>\n",
       "    </tr>\n",
       "    <tr>\n",
       "      <th>1</th>\n",
       "      <td>Random Under Sampling</td>\n",
       "      <td>78766</td>\n",
       "      <td>78766</td>\n",
       "      <td>39383</td>\n",
       "      <td>39383</td>\n",
       "    </tr>\n",
       "  </tbody>\n",
       "</table>\n",
       "</div>"
      ],
      "text/plain": [
       "               technique  X_train_shape  y_train_shape  Satisfied  \\\n",
       "0          Original Data          90640          90640      39383   \n",
       "1  Random Under Sampling          78766          78766      39383   \n",
       "\n",
       "   Neutral or Dissatisfied  \n",
       "0                    51257  \n",
       "1                    39383  "
      ]
     },
     "execution_count": 11,
     "metadata": {},
     "output_type": "execute_result"
    }
   ],
   "source": [
    "new_row = {'technique':'Random Under Sampling', \n",
    "           'X_train_shape': X_train_rus.shape[0],\n",
    "          'y_train_shape': y_train_rus.shape[0],\n",
    "           'Satisfied': y_train_rus.value_counts()[1],\n",
    "          'Neutral or Dissatisfied': y_train_rus.value_counts()[0]}\n",
    "\n",
    "counts_table = counts_table.append(new_row, ignore_index=True)\n",
    "counts_table"
   ]
  },
  {
   "cell_type": "markdown",
   "metadata": {},
   "source": [
    "### 5.2 SMOTE"
   ]
  },
  {
   "cell_type": "code",
   "execution_count": 12,
   "metadata": {},
   "outputs": [],
   "source": [
    "from imblearn.over_sampling import SMOTE\n",
    "\n",
    "smote = SMOTE(random_state=42, sampling_strategy = 'minority')\n",
    "\n",
    "X_train_sm, y_train_sm = smote.fit_sample(X_train, y_train)"
   ]
  },
  {
   "cell_type": "code",
   "execution_count": 13,
   "metadata": {},
   "outputs": [
    {
     "data": {
      "text/html": [
       "<div>\n",
       "<style scoped>\n",
       "    .dataframe tbody tr th:only-of-type {\n",
       "        vertical-align: middle;\n",
       "    }\n",
       "\n",
       "    .dataframe tbody tr th {\n",
       "        vertical-align: top;\n",
       "    }\n",
       "\n",
       "    .dataframe thead th {\n",
       "        text-align: right;\n",
       "    }\n",
       "</style>\n",
       "<table border=\"1\" class=\"dataframe\">\n",
       "  <thead>\n",
       "    <tr style=\"text-align: right;\">\n",
       "      <th></th>\n",
       "      <th>technique</th>\n",
       "      <th>X_train_shape</th>\n",
       "      <th>y_train_shape</th>\n",
       "      <th>Satisfied</th>\n",
       "      <th>Neutral or Dissatisfied</th>\n",
       "    </tr>\n",
       "  </thead>\n",
       "  <tbody>\n",
       "    <tr>\n",
       "      <th>0</th>\n",
       "      <td>Original Data</td>\n",
       "      <td>90640</td>\n",
       "      <td>90640</td>\n",
       "      <td>39383</td>\n",
       "      <td>51257</td>\n",
       "    </tr>\n",
       "    <tr>\n",
       "      <th>1</th>\n",
       "      <td>Random Under Sampling</td>\n",
       "      <td>78766</td>\n",
       "      <td>78766</td>\n",
       "      <td>39383</td>\n",
       "      <td>39383</td>\n",
       "    </tr>\n",
       "    <tr>\n",
       "      <th>2</th>\n",
       "      <td>SMOTE - minority</td>\n",
       "      <td>102514</td>\n",
       "      <td>102514</td>\n",
       "      <td>51257</td>\n",
       "      <td>51257</td>\n",
       "    </tr>\n",
       "  </tbody>\n",
       "</table>\n",
       "</div>"
      ],
      "text/plain": [
       "               technique  X_train_shape  y_train_shape  Satisfied  \\\n",
       "0          Original Data          90640          90640      39383   \n",
       "1  Random Under Sampling          78766          78766      39383   \n",
       "2       SMOTE - minority         102514         102514      51257   \n",
       "\n",
       "   Neutral or Dissatisfied  \n",
       "0                    51257  \n",
       "1                    39383  \n",
       "2                    51257  "
      ]
     },
     "execution_count": 13,
     "metadata": {},
     "output_type": "execute_result"
    }
   ],
   "source": [
    "new_row = {'technique':'SMOTE - minority', \n",
    "           'X_train_shape': X_train_sm.shape[0],\n",
    "          'y_train_shape': y_train_sm.shape[0],\n",
    "           'Satisfied': y_train_sm.value_counts()[1],\n",
    "          'Neutral or Dissatisfied': y_train_sm.value_counts()[0]}\n",
    "\n",
    "counts_table = counts_table.append(new_row, ignore_index=True)\n",
    "counts_table"
   ]
  },
  {
   "cell_type": "code",
   "execution_count": 14,
   "metadata": {},
   "outputs": [],
   "source": [
    "X_train_np = X_train.to_numpy()\n",
    "y_train_np = y_train.to_numpy().ravel()\n",
    "X_train_rus_np = X_train_rus.to_numpy()\n",
    "y_train_rus_np = y_train_rus.to_numpy().ravel()\n",
    "X_train_sm_np = X_train_sm.to_numpy()\n",
    "y_train_sm_np = y_train_sm.to_numpy().ravel()\n",
    "\n",
    "X_test_np = X_test.to_numpy()\n",
    "y_test_np = y_test.to_numpy().ravel()"
   ]
  },
  {
   "cell_type": "code",
   "execution_count": 15,
   "metadata": {},
   "outputs": [
    {
     "name": "stdout",
     "output_type": "stream",
     "text": [
      "(90640, 28) (90640,)\n",
      "(78766, 28) (78766,)\n",
      "(102514, 28) (102514,)\n"
     ]
    }
   ],
   "source": [
    "print(X_train_np.shape, y_train_np.shape)\n",
    "print(X_train_rus_np.shape, y_train_rus_np.shape)\n",
    "print(X_train_sm_np.shape, y_train_sm_np.shape)"
   ]
  },
  {
   "cell_type": "markdown",
   "metadata": {},
   "source": [
    "## 6. Logistic Regression"
   ]
  },
  {
   "cell_type": "markdown",
   "metadata": {},
   "source": [
    "### 6.1 Random Under Sampling"
   ]
  },
  {
   "cell_type": "code",
   "execution_count": 16,
   "metadata": {},
   "outputs": [
    {
     "name": "stderr",
     "output_type": "stream",
     "text": [
      "/Users/lauren/opt/anaconda3/lib/python3.8/site-packages/sklearn/linear_model/_sag.py:352: ConvergenceWarning: The max_iter was reached which means the coef_ did not converge\n",
      "  warnings.warn(\n"
     ]
    }
   ],
   "source": [
    "from sklearn.linear_model import LogisticRegression\n",
    "\n",
    "lr_rus = LogisticRegression(solver = 'saga', random_state=42, max_iter = 2000)\n",
    "# Fit the model on the trainng data.\n",
    "lr_rus.fit(X_train_rus_np, y_train_rus_np)\n",
    "\n",
    "y_pred_train_1a = lr_rus.predict(X_train_rus_np)\n",
    "y_pred_test_1a = lr_rus.predict(X_test_np)"
   ]
  },
  {
   "cell_type": "code",
   "execution_count": 17,
   "metadata": {},
   "outputs": [],
   "source": [
    "cm_1a_train = confusion_matrix(y_train_rus_np, y_pred_train_1a)\n",
    "cm_1a_test = confusion_matrix(y_test_np, y_pred_test_1a)"
   ]
  },
  {
   "cell_type": "code",
   "execution_count": 18,
   "metadata": {},
   "outputs": [
    {
     "data": {
      "text/plain": [
       "Text(0.5, 1.0, 'LogisticRegression RUS - Testing confusion matrix')"
      ]
     },
     "execution_count": 18,
     "metadata": {},
     "output_type": "execute_result"
    },
    {
     "data": {
      "image/png": "[encoded data removed]",
      "text/plain": [
       "<Figure size 864x360 with 4 Axes>"
      ]
     },
     "metadata": {
      "needs_background": "light"
     },
     "output_type": "display_data"
    }
   ],
   "source": [
    "fig, ax = plt.subplots(1,2, figsize=(12,5))\n",
    "sns.heatmap(cm_1a_train, annot=True, fmt = '', cmap = 'Blues',ax = ax[0])\n",
    "ax[0].set_xlabel('Predicted label')\n",
    "ax[0].set_ylabel('True label')\n",
    "ax[0].set_title('LogisticRegression RUS - Training confusion matrix')\n",
    "\n",
    "sns.heatmap(cm_1a_test, annot=True, fmt = '', cmap = 'Greens',ax = ax[1])\n",
    "ax[1].set_xlabel('Predicted label')\n",
    "ax[1].set_ylabel('True label')\n",
    "ax[1].set_title('LogisticRegression RUS - Testing confusion matrix')"
   ]
  },
  {
   "cell_type": "code",
   "execution_count": 19,
   "metadata": {},
   "outputs": [
    {
     "name": "stdout",
     "output_type": "stream",
     "text": [
      "[Training Classification Report]\n",
      "                         precision    recall  f1-score   support\n",
      "\n",
      "              Satisfied       0.61      0.58      0.60     39383\n",
      "Neutral or Dissatisfied       0.60      0.63      0.62     39383\n",
      "\n",
      "               accuracy                           0.61     78766\n",
      "              macro avg       0.61      0.61      0.61     78766\n",
      "           weighted avg       0.61      0.61      0.61     78766\n",
      "\n",
      "[Test Classification Report]\n",
      "                         precision    recall  f1-score   support\n",
      "\n",
      "              Satisfied       0.68      0.58      0.63     21968\n",
      "Neutral or Dissatisfied       0.54      0.64      0.58     16879\n",
      "\n",
      "               accuracy                           0.61     38847\n",
      "              macro avg       0.61      0.61      0.61     38847\n",
      "           weighted avg       0.62      0.61      0.61     38847\n",
      "\n"
     ]
    }
   ],
   "source": [
    "from sklearn.metrics import classification_report\n",
    "\n",
    "target_names = ['Satisfied', 'Neutral or Dissatisfied']\n",
    "\n",
    "print(\"[Training Classification Report]\")\n",
    "train_classification_report_1a = classification_report(y_train_rus_np, y_pred_train_1a, target_names=target_names)\n",
    "print(train_classification_report_1a)\n",
    "\n",
    "print(\"[Test Classification Report]\")\n",
    "test_classification_report_1a = classification_report(y_test_np, y_pred_test_1a, target_names=target_names)\n",
    "print(test_classification_report_1a)"
   ]
  },
  {
   "cell_type": "markdown",
   "metadata": {},
   "source": [
    "### 6.2 SMOTE"
   ]
  },
  {
   "cell_type": "code",
   "execution_count": 20,
   "metadata": {},
   "outputs": [
    {
     "name": "stderr",
     "output_type": "stream",
     "text": [
      "/Users/lauren/opt/anaconda3/lib/python3.8/site-packages/sklearn/linear_model/_sag.py:352: ConvergenceWarning: The max_iter was reached which means the coef_ did not converge\n",
      "  warnings.warn(\n"
     ]
    }
   ],
   "source": [
    "lr_sm = LogisticRegression(solver = 'saga', random_state=42, max_iter = 2000)\n",
    "# Fit the model on the trainng data.\n",
    "lr_sm.fit(X_train_sm_np, y_train_sm_np)\n",
    "\n",
    "y_pred_train_1c = lr_sm.predict(X_train_sm_np)\n",
    "y_pred_test_1c = lr_sm.predict(X_test_np)"
   ]
  },
  {
   "cell_type": "code",
   "execution_count": 21,
   "metadata": {},
   "outputs": [],
   "source": [
    "cm_1c_train = confusion_matrix(y_train_sm_np,y_pred_train_1c)\n",
    "cm_1c_test = confusion_matrix(y_test_np,y_pred_test_1c)"
   ]
  },
  {
   "cell_type": "code",
   "execution_count": 22,
   "metadata": {},
   "outputs": [
    {
     "data": {
      "text/plain": [
       "Text(0.5, 1.0, 'LogisticRegression SMOTE - Testing confusion matrix')"
      ]
     },
     "execution_count": 22,
     "metadata": {},
     "output_type": "execute_result"
    },
    {
     "data": {
      "image/png": "[encoded data removed]",
      "text/plain": [
       "<Figure size 864x360 with 4 Axes>"
      ]
     },
     "metadata": {
      "needs_background": "light"
     },
     "output_type": "display_data"
    }
   ],
   "source": [
    "fig, ax = plt.subplots(1,2, figsize=(12,5))\n",
    "sns.heatmap(cm_1c_train, annot=True, fmt = '', cmap = 'Blues',ax = ax[0])\n",
    "ax[0].set_xlabel('Predicted label')\n",
    "ax[0].set_ylabel('True label')\n",
    "ax[0].set_title('LogisticRegression SMOTE - Training confusion matrix')\n",
    "\n",
    "sns.heatmap(cm_1c_test, annot=True, fmt = '', cmap = 'Greens',ax = ax[1])\n",
    "ax[1].set_xlabel('Predicted label')\n",
    "ax[1].set_ylabel('True label')\n",
    "ax[1].set_title('LogisticRegression SMOTE - Testing confusion matrix')"
   ]
  },
  {
   "cell_type": "code",
   "execution_count": 23,
   "metadata": {},
   "outputs": [
    {
     "name": "stdout",
     "output_type": "stream",
     "text": [
      "[Training Classification Report]\n",
      "                         precision    recall  f1-score   support\n",
      "\n",
      "              Satisfied       0.62      0.59      0.60     51257\n",
      "Neutral or Dissatisfied       0.61      0.63      0.62     51257\n",
      "\n",
      "               accuracy                           0.61    102514\n",
      "              macro avg       0.61      0.61      0.61    102514\n",
      "           weighted avg       0.61      0.61      0.61    102514\n",
      "\n",
      "[Test Classification Report]\n",
      "                         precision    recall  f1-score   support\n",
      "\n",
      "              Satisfied       0.68      0.59      0.63     21968\n",
      "Neutral or Dissatisfied       0.54      0.63      0.59     16879\n",
      "\n",
      "               accuracy                           0.61     38847\n",
      "              macro avg       0.61      0.61      0.61     38847\n",
      "           weighted avg       0.62      0.61      0.61     38847\n",
      "\n"
     ]
    }
   ],
   "source": [
    "target_names = ['Satisfied', 'Neutral or Dissatisfied']\n",
    "\n",
    "print(\"[Training Classification Report]\")\n",
    "train_classification_report_1b = classification_report(y_train_sm_np, y_pred_train_1c, target_names=target_names)\n",
    "print(train_classification_report_1b)\n",
    "\n",
    "print(\"[Test Classification Report]\")\n",
    "test_classification_report_1b = classification_report(y_test_np, y_pred_test_1c, target_names=target_names)\n",
    "print(test_classification_report_1b)"
   ]
  },
  {
   "cell_type": "markdown",
   "metadata": {},
   "source": [
    "## 7. Random Forest"
   ]
  },
  {
   "cell_type": "markdown",
   "metadata": {},
   "source": [
    "### 7.1 Random Under Sampling"
   ]
  },
  {
   "cell_type": "code",
   "execution_count": 24,
   "metadata": {},
   "outputs": [],
   "source": [
    "from sklearn.ensemble import RandomForestClassifier\n",
    "\n",
    "rf_rus = RandomForestClassifier(random_state=42)\n",
    "rf_rus.fit(X_train_rus_np, y_train_rus_np)\n",
    "\n",
    "y_pred_train_2a = rf_rus.predict(X_train_rus_np)\n",
    "y_pred_test_2a = rf_rus.predict(X_test_np)"
   ]
  },
  {
   "cell_type": "code",
   "execution_count": 25,
   "metadata": {},
   "outputs": [],
   "source": [
    "cm_2a_train = confusion_matrix(y_train_rus_np,y_pred_train_2a)\n",
    "cm_2a_test = confusion_matrix(y_test_np,y_pred_test_2a)"
   ]
  },
  {
   "cell_type": "code",
   "execution_count": 26,
   "metadata": {},
   "outputs": [
    {
     "data": {
      "text/plain": [
       "Text(0.5, 1.0, 'RandomForest RUS - Testing confusion matrix')"
      ]
     },
     "execution_count": 26,
     "metadata": {},
     "output_type": "execute_result"
    },
    {
     "data": {
      "image/png": "[encoded data removed]",
      "text/plain": [
       "<Figure size 864x360 with 4 Axes>"
      ]
     },
     "metadata": {
      "needs_background": "light"
     },
     "output_type": "display_data"
    }
   ],
   "source": [
    "fig, ax = plt.subplots(1,2, figsize=(12,5))\n",
    "sns.heatmap(cm_2a_train, annot=True, fmt = '', cmap = 'Blues',ax = ax[0])\n",
    "ax[0].set_xlabel('Predicted label')\n",
    "ax[0].set_ylabel('True label')\n",
    "ax[0].set_title('RandomForest RUS - Training confusion matrix')\n",
    "\n",
    "sns.heatmap(cm_2a_test, annot=True, fmt = '', cmap = 'Greens',ax = ax[1])\n",
    "ax[1].set_xlabel('Predicted label')\n",
    "ax[1].set_ylabel('True label')\n",
    "ax[1].set_title('RandomForest RUS - Testing confusion matrix')"
   ]
  },
  {
   "cell_type": "code",
   "execution_count": 27,
   "metadata": {},
   "outputs": [
    {
     "name": "stdout",
     "output_type": "stream",
     "text": [
      "[Training Classification Report]\n",
      "                         precision    recall  f1-score   support\n",
      "\n",
      "              Satisfied       1.00      1.00      1.00     39383\n",
      "Neutral or Dissatisfied       1.00      1.00      1.00     39383\n",
      "\n",
      "               accuracy                           1.00     78766\n",
      "              macro avg       1.00      1.00      1.00     78766\n",
      "           weighted avg       1.00      1.00      1.00     78766\n",
      "\n",
      "[Test Classification Report]\n",
      "                         precision    recall  f1-score   support\n",
      "\n",
      "              Satisfied       0.97      0.96      0.97     21968\n",
      "Neutral or Dissatisfied       0.95      0.96      0.95     16879\n",
      "\n",
      "               accuracy                           0.96     38847\n",
      "              macro avg       0.96      0.96      0.96     38847\n",
      "           weighted avg       0.96      0.96      0.96     38847\n",
      "\n"
     ]
    }
   ],
   "source": [
    "target_names = ['Satisfied', 'Neutral or Dissatisfied']\n",
    "\n",
    "print(\"[Training Classification Report]\")\n",
    "train_classification_report_2a = classification_report(y_train_rus_np, y_pred_train_2a, target_names=target_names)\n",
    "print(train_classification_report_2a)\n",
    "\n",
    "print(\"[Test Classification Report]\")\n",
    "test_classification_report_2a = classification_report(y_test_np, y_pred_test_2a, target_names=target_names)\n",
    "print(test_classification_report_2a)"
   ]
  },
  {
   "cell_type": "markdown",
   "metadata": {},
   "source": [
    "### 7.2 SMOTE"
   ]
  },
  {
   "cell_type": "code",
   "execution_count": 28,
   "metadata": {},
   "outputs": [],
   "source": [
    "rf_sm = RandomForestClassifier(random_state=42)\n",
    "rf_sm.fit(X_train_sm_np, y_train_sm_np)\n",
    "\n",
    "y_pred_train_2b = rf_sm.predict(X_train_sm_np)\n",
    "y_pred_test_2b = rf_sm.predict(X_test_np)"
   ]
  },
  {
   "cell_type": "code",
   "execution_count": 29,
   "metadata": {},
   "outputs": [],
   "source": [
    "cm_2b_train = confusion_matrix(y_train_sm_np,y_pred_train_2b)\n",
    "cm_2b_test = confusion_matrix(y_test_np,y_pred_test_2b)"
   ]
  },
  {
   "cell_type": "code",
   "execution_count": 30,
   "metadata": {},
   "outputs": [
    {
     "data": {
      "text/plain": [
       "Text(0.5, 1.0, 'RandomForest SMOTE - Testing confusion matrix')"
      ]
     },
     "execution_count": 30,
     "metadata": {},
     "output_type": "execute_result"
    },
    {
     "data": {
      "image/png": "[encoded data removed]",
      "text/plain": [
       "<Figure size 864x360 with 4 Axes>"
      ]
     },
     "metadata": {
      "needs_background": "light"
     },
     "output_type": "display_data"
    }
   ],
   "source": [
    "fig, ax = plt.subplots(1,2, figsize=(12,5))\n",
    "sns.heatmap(cm_2b_train, annot=True, fmt = '', cmap = 'Blues',ax = ax[0])\n",
    "ax[0].set_xlabel('Predicted label')\n",
    "ax[0].set_ylabel('True label')\n",
    "ax[0].set_title('RandomForest SMOTE - Training confusion matrix')\n",
    "\n",
    "sns.heatmap(cm_2b_test, annot=True, fmt = '', cmap = 'Greens',ax = ax[1])\n",
    "ax[1].set_xlabel('Predicted label')\n",
    "ax[1].set_ylabel('True label')\n",
    "ax[1].set_title('RandomForest SMOTE - Testing confusion matrix')"
   ]
  },
  {
   "cell_type": "code",
   "execution_count": 31,
   "metadata": {
    "scrolled": true
   },
   "outputs": [
    {
     "name": "stdout",
     "output_type": "stream",
     "text": [
      "[Training Classification Report]\n",
      "                         precision    recall  f1-score   support\n",
      "\n",
      "              Satisfied       1.00      1.00      1.00     51257\n",
      "Neutral or Dissatisfied       1.00      1.00      1.00     51257\n",
      "\n",
      "               accuracy                           1.00    102514\n",
      "              macro avg       1.00      1.00      1.00    102514\n",
      "           weighted avg       1.00      1.00      1.00    102514\n",
      "\n",
      "[Test Classification Report]\n",
      "                         precision    recall  f1-score   support\n",
      "\n",
      "              Satisfied       0.96      0.98      0.97     21968\n",
      "Neutral or Dissatisfied       0.97      0.95      0.96     16879\n",
      "\n",
      "               accuracy                           0.96     38847\n",
      "              macro avg       0.96      0.96      0.96     38847\n",
      "           weighted avg       0.96      0.96      0.96     38847\n",
      "\n"
     ]
    }
   ],
   "source": [
    "target_names = ['Satisfied', 'Neutral or Dissatisfied']\n",
    "\n",
    "print(\"[Training Classification Report]\")\n",
    "train_classification_report_2b = classification_report(y_train_sm_np, y_pred_train_2b, target_names=target_names)\n",
    "print(train_classification_report_2b)\n",
    "\n",
    "print(\"[Test Classification Report]\")\n",
    "test_classification_report_2b = classification_report(y_test_np, y_pred_test_2b, target_names=target_names)\n",
    "print(test_classification_report_2b)"
   ]
  },
  {
   "cell_type": "markdown",
   "metadata": {},
   "source": [
    "## 8. Summary & Next Steps"
   ]
  },
  {
   "cell_type": "markdown",
   "metadata": {},
   "source": [
    "Let's create a table to help summarize the four models that we created:"
   ]
  },
  {
   "cell_type": "code",
   "execution_count": 32,
   "metadata": {},
   "outputs": [
    {
     "name": "stdout",
     "output_type": "stream",
     "text": [
      "Requirement already satisfied: tabulate in ./opt/anaconda3/lib/python3.8/site-packages (0.8.10)\n",
      " Model                       |   Test Precision |   Test Recall |   Test F1-Score\n",
      "-----------------------------+------------------+---------------+-----------------\n",
      " Logistic Regression - RUS   |             0.68 |          0.58 |            0.63\n",
      " Logistic Regression - SMOTE |             0.68 |          0.59 |            0.63\n",
      " Random Forest - RUS         |             0.97 |          0.96 |            0.97\n",
      " Random Forest - SMOTE       |             0.96 |          0.98 |            0.97\n"
     ]
    }
   ],
   "source": [
    "! pip install tabulate\n",
    "from tabulate import tabulate\n",
    "\n",
    "table = [['Logistic Regression - RUS','0.68','0.58','0.63'],['Logistic Regression - SMOTE','0.68','0.59','0.63'],['Random Forest - RUS','0.97','0.96','0.97'],['Random Forest - SMOTE','0.96','0.98','0.97']]\n",
    "\n",
    "print(tabulate(table, headers=['Model','Test Precision','Test Recall','Test F1-Score'], tablefmt='presto'))"
   ]
  },
  {
   "cell_type": "markdown",
   "metadata": {},
   "source": [
    "All in all, we've trained four models.  Two logistic regression models and two random forest models, using random under sampling and SMOTE.\n",
    "\n",
    "For the needs of our client, we've decided it would be ideal to optimize precision and F1-scores.  Fortunately, the random forest models performed the best for both of those metrics.  The top two models were:\n",
    "\n",
    "1 - Random Forest with Random Under Sampling\n",
    "\n",
    "2 - Random Forst with SMOTE\n",
    "\n",
    "Next we want to apply hyperparameter tuning to the top models to see if we can decide on which model is the best for our client's needs."
   ]
  },
  {
   "cell_type": "markdown",
   "metadata": {},
   "source": [
    "## 9. Hyperparameter Tuning"
   ]
  },
  {
   "cell_type": "code",
   "execution_count": 33,
   "metadata": {},
   "outputs": [
    {
     "data": {
      "image/png": "[encoded data removed]",
      "text/plain": [
       "<Figure size 432x288 with 1 Axes>"
      ]
     },
     "metadata": {
      "needs_background": "light"
     },
     "output_type": "display_data"
    }
   ],
   "source": [
    "import matplotlib.pyplot as plt\n",
    "\n",
    "from collections import OrderedDict\n",
    "from sklearn.datasets import make_classification\n",
    "from sklearn.ensemble import RandomForestClassifier\n",
    "\n",
    "RANDOM_STATE = 123\n",
    "\n",
    "# generate a binary classification dataset\n",
    "X_train, y_train = make_classification(\n",
    "    n_samples=500,\n",
    "    n_features=25,\n",
    "    n_clusters_per_class=1,\n",
    "    n_informative=15,\n",
    "    random_state=RANDOM_STATE,\n",
    ")\n",
    "\n",
    "# note, setting the 'warm_start' construction parameter to 'True' disables\n",
    "# support for parallelized ensembles but is necessary for tracking the OOB\n",
    "# error trajectory during training\n",
    "ensemble_clfs = [\n",
    "    (\n",
    "        \"RandomForestClassifier, max_features='sqrt'\",\n",
    "        RandomForestClassifier(\n",
    "            warm_start=True,\n",
    "            oob_score=True,\n",
    "            max_features='sqrt',\n",
    "            random_state=RANDOM_STATE,\n",
    "        ),\n",
    "    ),\n",
    "    (\n",
    "        \"RandomForestClassifier, max_features='log2'\",\n",
    "        RandomForestClassifier(\n",
    "            warm_start=True,\n",
    "            max_features='log2',\n",
    "            oob_score=True,\n",
    "            random_state=RANDOM_STATE,\n",
    "        ),\n",
    "    ),\n",
    "]\n",
    "\n",
    "# map a classifier name to a list of (<n_estimators>, <error rate>) pairs\n",
    "error_rate = OrderedDict((label, []) for label, _ in ensemble_clfs)\n",
    "\n",
    "# range of 'n_estimators' values to explore\n",
    "min_estimators = 15\n",
    "max_estimators = 150\n",
    "\n",
    "for label, clf in ensemble_clfs:\n",
    "    for i in range(min_estimators, max_estimators + 1, 5):\n",
    "        clf.set_params(n_estimators = i)\n",
    "        clf.fit(X_train, y_train)\n",
    "        \n",
    "        # record the OOB error for each 'n_estimators = i' setting\n",
    "        oob_error = 1 - clf.oob_score_\n",
    "        error_rate[label].append((i, oob_error))\n",
    "\n",
    "# generate the \"OOB error rate\" vs. \"n_estimators\" plot\n",
    "for label, clf_err in error_rate.items():\n",
    "    xs, ys = zip(*clf_err)\n",
    "    plt.plot(xs, ys, label = label)\n",
    "    \n",
    "plt.xlim(min_estimators, max_estimators)\n",
    "plt.xlabel(\"n_estimators\")\n",
    "plt.ylabel(\"OOB error rate\")\n",
    "plt.legend(loc = \"upper right\")\n",
    "plt.show()\n"
   ]
  },
  {
   "cell_type": "markdown",
   "metadata": {},
   "source": [
    "The above plot shows how we can use the OOB error (\"out of bag\" error) to approximate a suitable value of n_estimators at which the error stabilizes.\n",
    "\n",
    "Per the above, it appears the OOB error stabilizes at approximately n_estimators = 120"
   ]
  },
  {
   "cell_type": "markdown",
   "metadata": {},
   "source": [
    "### 9.1 Random Forest - Random Under Sampling"
   ]
  },
  {
   "cell_type": "code",
   "execution_count": 34,
   "metadata": {},
   "outputs": [],
   "source": [
    "from sklearn.ensemble import RandomForestClassifier\n",
    "\n",
    "rf_rus = RandomForestClassifier(random_state=42, n_estimators = 120)\n",
    "rf_rus.fit(X_train_rus_np, y_train_rus_np)\n",
    "\n",
    "y_pred_train_2a = rf_rus.predict(X_train_rus_np)\n",
    "y_pred_test_2a = rf_rus.predict(X_test_np)"
   ]
  },
  {
   "cell_type": "code",
   "execution_count": 35,
   "metadata": {},
   "outputs": [],
   "source": [
    "cm_2a_train = confusion_matrix(y_train_rus_np,y_pred_train_2a)\n",
    "cm_2a_test = confusion_matrix(y_test_np,y_pred_test_2a)"
   ]
  },
  {
   "cell_type": "code",
   "execution_count": 36,
   "metadata": {},
   "outputs": [
    {
     "data": {
      "text/plain": [
       "Text(0.5, 1.0, 'RandomForest RUS - Testing confusion matrix')"
      ]
     },
     "execution_count": 36,
     "metadata": {},
     "output_type": "execute_result"
    },
    {
     "data": {
      "image/png": "[encoded data removed]",
      "text/plain": [
       "<Figure size 864x360 with 4 Axes>"
      ]
     },
     "metadata": {
      "needs_background": "light"
     },
     "output_type": "display_data"
    }
   ],
   "source": [
    "fig, ax = plt.subplots(1,2, figsize=(12,5))\n",
    "sns.heatmap(cm_2a_train, annot=True, fmt = '', cmap = 'Blues',ax = ax[0])\n",
    "ax[0].set_xlabel('Predicted label')\n",
    "ax[0].set_ylabel('True label')\n",
    "ax[0].set_title('RandomForest RUS - Training confusion matrix')\n",
    "\n",
    "sns.heatmap(cm_2a_test, annot=True, fmt = '', cmap = 'Greens',ax = ax[1])\n",
    "ax[1].set_xlabel('Predicted label')\n",
    "ax[1].set_ylabel('True label')\n",
    "ax[1].set_title('RandomForest RUS - Testing confusion matrix')"
   ]
  },
  {
   "cell_type": "code",
   "execution_count": 37,
   "metadata": {},
   "outputs": [
    {
     "name": "stdout",
     "output_type": "stream",
     "text": [
      "[Training Classification Report]\n",
      "                         precision    recall  f1-score   support\n",
      "\n",
      "              Satisfied       1.00      1.00      1.00     39383\n",
      "Neutral or Dissatisfied       1.00      1.00      1.00     39383\n",
      "\n",
      "               accuracy                           1.00     78766\n",
      "              macro avg       1.00      1.00      1.00     78766\n",
      "           weighted avg       1.00      1.00      1.00     78766\n",
      "\n",
      "[Test Classification Report]\n",
      "                         precision    recall  f1-score   support\n",
      "\n",
      "              Satisfied       0.97      0.96      0.97     21968\n",
      "Neutral or Dissatisfied       0.95      0.96      0.96     16879\n",
      "\n",
      "               accuracy                           0.96     38847\n",
      "              macro avg       0.96      0.96      0.96     38847\n",
      "           weighted avg       0.96      0.96      0.96     38847\n",
      "\n"
     ]
    }
   ],
   "source": [
    "target_names = ['Satisfied', 'Neutral or Dissatisfied']\n",
    "\n",
    "print(\"[Training Classification Report]\")\n",
    "train_classification_report_2a = classification_report(y_train_rus_np, y_pred_train_2a, target_names=target_names)\n",
    "print(train_classification_report_2a)\n",
    "\n",
    "print(\"[Test Classification Report]\")\n",
    "test_classification_report_2a = classification_report(y_test_np, y_pred_test_2a, target_names=target_names)\n",
    "print(test_classification_report_2a)"
   ]
  },
  {
   "cell_type": "markdown",
   "metadata": {},
   "source": [
    "### 9.2 Random Forest - SMOTE"
   ]
  },
  {
   "cell_type": "code",
   "execution_count": 38,
   "metadata": {},
   "outputs": [],
   "source": [
    "rf_sm = RandomForestClassifier(random_state=42, n_estimators = 120)\n",
    "rf_sm.fit(X_train_sm_np, y_train_sm_np)\n",
    "\n",
    "y_pred_train_2b = rf_sm.predict(X_train_sm_np)\n",
    "y_pred_test_2b = rf_sm.predict(X_test_np)"
   ]
  },
  {
   "cell_type": "code",
   "execution_count": 39,
   "metadata": {},
   "outputs": [],
   "source": [
    "cm_2b_train = confusion_matrix(y_train_sm_np,y_pred_train_2b)\n",
    "cm_2b_test = confusion_matrix(y_test_np,y_pred_test_2b)"
   ]
  },
  {
   "cell_type": "code",
   "execution_count": 40,
   "metadata": {},
   "outputs": [
    {
     "data": {
      "text/plain": [
       "Text(0.5, 1.0, 'RandomForest SMOTE - Testing confusion matrix')"
      ]
     },
     "execution_count": 40,
     "metadata": {},
     "output_type": "execute_result"
    },
    {
     "data": {
      "image/png": "[encoded data removed]",
      "text/plain": [
       "<Figure size 864x360 with 4 Axes>"
      ]
     },
     "metadata": {
      "needs_background": "light"
     },
     "output_type": "display_data"
    }
   ],
   "source": [
    "fig, ax = plt.subplots(1,2, figsize=(12,5))\n",
    "sns.heatmap(cm_2b_train, annot=True, fmt = '', cmap = 'Blues',ax = ax[0])\n",
    "ax[0].set_xlabel('Predicted label')\n",
    "ax[0].set_ylabel('True label')\n",
    "ax[0].set_title('RandomForest SMOTE - Training confusion matrix')\n",
    "\n",
    "sns.heatmap(cm_2b_test, annot=True, fmt = '', cmap = 'Greens',ax = ax[1])\n",
    "ax[1].set_xlabel('Predicted label')\n",
    "ax[1].set_ylabel('True label')\n",
    "ax[1].set_title('RandomForest SMOTE - Testing confusion matrix')"
   ]
  },
  {
   "cell_type": "code",
   "execution_count": 41,
   "metadata": {},
   "outputs": [
    {
     "name": "stdout",
     "output_type": "stream",
     "text": [
      "[Training Classification Report]\n",
      "                         precision    recall  f1-score   support\n",
      "\n",
      "              Satisfied       1.00      1.00      1.00     51257\n",
      "Neutral or Dissatisfied       1.00      1.00      1.00     51257\n",
      "\n",
      "               accuracy                           1.00    102514\n",
      "              macro avg       1.00      1.00      1.00    102514\n",
      "           weighted avg       1.00      1.00      1.00    102514\n",
      "\n",
      "[Test Classification Report]\n",
      "                         precision    recall  f1-score   support\n",
      "\n",
      "              Satisfied       0.96      0.98      0.97     21968\n",
      "Neutral or Dissatisfied       0.97      0.95      0.96     16879\n",
      "\n",
      "               accuracy                           0.96     38847\n",
      "              macro avg       0.96      0.96      0.96     38847\n",
      "           weighted avg       0.96      0.96      0.96     38847\n",
      "\n"
     ]
    }
   ],
   "source": [
    "target_names = ['Satisfied', 'Neutral or Dissatisfied']\n",
    "\n",
    "print(\"[Training Classification Report]\")\n",
    "train_classification_report_2b = classification_report(y_train_sm_np, y_pred_train_2b, target_names=target_names)\n",
    "print(train_classification_report_2b)\n",
    "\n",
    "print(\"[Test Classification Report]\")\n",
    "test_classification_report_2b = classification_report(y_test_np, y_pred_test_2b, target_names=target_names)\n",
    "print(test_classification_report_2b)"
   ]
  },
  {
   "cell_type": "markdown",
   "metadata": {},
   "source": [
    "With the hyperparameter tuning, we can see that there was not much of a change in the classification reports for either model.  A summary is below:"
   ]
  },
  {
   "cell_type": "code",
   "execution_count": 42,
   "metadata": {},
   "outputs": [
    {
     "name": "stdout",
     "output_type": "stream",
     "text": [
      " Model                 |   Test Precision |   Test Recall |   Test F1-Score\n",
      "-----------------------+------------------+---------------+-----------------\n",
      " Random Forest - RUS   |             0.97 |          0.96 |            0.97\n",
      " Random Forest - SMOTE |             0.96 |          0.98 |            0.97\n"
     ]
    }
   ],
   "source": [
    "\n",
    "table = [['Random Forest - RUS','0.97','0.96','0.97'],['Random Forest - SMOTE','0.96','0.98','0.97']]\n",
    "\n",
    "print(tabulate(table, headers=['Model','Test Precision','Test Recall','Test F1-Score'], tablefmt='presto'))"
   ]
  },
  {
   "cell_type": "markdown",
   "metadata": {},
   "source": [
    "Based on the above summary table, the model with the best precision value was Random Forest - Random Under Sampling."
   ]
  },
  {
   "cell_type": "markdown",
   "metadata": {},
   "source": [
    "## 10. Feature Importances"
   ]
  },
  {
   "cell_type": "code",
   "execution_count": 50,
   "metadata": {},
   "outputs": [
    {
     "data": {
      "text/plain": [
       "array([0.02970136, 0.02476712, 0.02785895, 0.00958308, 0.01062796,\n",
       "       0.01295208, 0.0399267 , 0.02403448, 0.1559878 , 0.01352972,\n",
       "       0.02673409, 0.03264994, 0.03157122, 0.02489705, 0.00959926,\n",
       "       0.02017001, 0.14392696, 0.0568995 , 0.02109216, 0.00264221,\n",
       "       0.0026729 , 0.02374059, 0.02311519, 0.06218309, 0.06136493,\n",
       "       0.07261826, 0.03308713, 0.00206627])"
      ]
     },
     "execution_count": 50,
     "metadata": {},
     "output_type": "execute_result"
    }
   ],
   "source": [
    "rf_rus.feature_importances_"
   ]
  },
  {
   "cell_type": "code",
   "execution_count": 75,
   "metadata": {},
   "outputs": [
    {
     "ename": "ValueError",
     "evalue": "Length of values (28) does not match length of index (25)",
     "output_type": "error",
     "traceback": [
      "\u001b[0;31m---------------------------------------------------------------------------\u001b[0m",
      "\u001b[0;31mValueError\u001b[0m                                Traceback (most recent call last)",
      "\u001b[0;32m<ipython-input-75-9a08f0340026>\u001b[0m in \u001b[0;36m<module>\u001b[0;34m\u001b[0m\n\u001b[0;32m----> 1\u001b[0;31m \u001b[0mfeature_scores\u001b[0m \u001b[0;34m=\u001b[0m \u001b[0mpd\u001b[0m\u001b[0;34m.\u001b[0m\u001b[0mSeries\u001b[0m\u001b[0;34m(\u001b[0m\u001b[0mrf_rus\u001b[0m\u001b[0;34m.\u001b[0m\u001b[0mfeature_importances_\u001b[0m\u001b[0;34m,\u001b[0m \u001b[0mindex\u001b[0m \u001b[0;34m=\u001b[0m \u001b[0mX_train\u001b[0m\u001b[0;34m.\u001b[0m\u001b[0mcolumns\u001b[0m\u001b[0;34m)\u001b[0m\u001b[0;34m.\u001b[0m\u001b[0msort_values\u001b[0m\u001b[0;34m(\u001b[0m\u001b[0mascending\u001b[0m \u001b[0;34m=\u001b[0m \u001b[0;32mFalse\u001b[0m\u001b[0;34m)\u001b[0m\u001b[0;34m\u001b[0m\u001b[0;34m\u001b[0m\u001b[0m\n\u001b[0m\u001b[1;32m      2\u001b[0m \u001b[0mfeature_scores\u001b[0m\u001b[0;34m\u001b[0m\u001b[0;34m\u001b[0m\u001b[0m\n\u001b[1;32m      3\u001b[0m \u001b[0;34m\u001b[0m\u001b[0m\n\u001b[1;32m      4\u001b[0m '''\n\u001b[1;32m      5\u001b[0m \u001b[0mfeature_importances\u001b[0m \u001b[0;34m=\u001b[0m \u001b[0mpd\u001b[0m\u001b[0;34m.\u001b[0m\u001b[0mDataFrame\u001b[0m\u001b[0;34m(\u001b[0m\u001b[0mrf_rus\u001b[0m\u001b[0;34m.\u001b[0m\u001b[0mfeature_importances_\u001b[0m\u001b[0;34m,\u001b[0m\u001b[0mindex\u001b[0m \u001b[0;34m=\u001b[0m \u001b[0mrf_rus\u001b[0m\u001b[0;34m.\u001b[0m\u001b[0mcolumns\u001b[0m\u001b[0;34m,\u001b[0m\u001b[0mcolumns\u001b[0m\u001b[0;34m=\u001b[0m\u001b[0;34m[\u001b[0m\u001b[0;34m'importance'\u001b[0m\u001b[0;34m]\u001b[0m\u001b[0;34m)\u001b[0m\u001b[0;34m.\u001b[0m\u001b[0msort_values\u001b[0m\u001b[0;34m(\u001b[0m\u001b[0;34m'importance'\u001b[0m\u001b[0;34m,\u001b[0m\u001b[0mascending\u001b[0m\u001b[0;34m=\u001b[0m\u001b[0;32mFalse\u001b[0m\u001b[0;34m)\u001b[0m\u001b[0;34m\u001b[0m\u001b[0;34m\u001b[0m\u001b[0m\n",
      "\u001b[0;32m~/opt/anaconda3/lib/python3.8/site-packages/pandas/core/series.py\u001b[0m in \u001b[0;36m__init__\u001b[0;34m(self, data, index, dtype, name, copy, fastpath)\u001b[0m\n\u001b[1;32m    428\u001b[0m                 \u001b[0mindex\u001b[0m \u001b[0;34m=\u001b[0m \u001b[0mibase\u001b[0m\u001b[0;34m.\u001b[0m\u001b[0mdefault_index\u001b[0m\u001b[0;34m(\u001b[0m\u001b[0mlen\u001b[0m\u001b[0;34m(\u001b[0m\u001b[0mdata\u001b[0m\u001b[0;34m)\u001b[0m\u001b[0;34m)\u001b[0m\u001b[0;34m\u001b[0m\u001b[0;34m\u001b[0m\u001b[0m\n\u001b[1;32m    429\u001b[0m             \u001b[0;32melif\u001b[0m \u001b[0mis_list_like\u001b[0m\u001b[0;34m(\u001b[0m\u001b[0mdata\u001b[0m\u001b[0;34m)\u001b[0m\u001b[0;34m:\u001b[0m\u001b[0;34m\u001b[0m\u001b[0;34m\u001b[0m\u001b[0m\n\u001b[0;32m--> 430\u001b[0;31m                 \u001b[0mcom\u001b[0m\u001b[0;34m.\u001b[0m\u001b[0mrequire_length_match\u001b[0m\u001b[0;34m(\u001b[0m\u001b[0mdata\u001b[0m\u001b[0;34m,\u001b[0m \u001b[0mindex\u001b[0m\u001b[0;34m)\u001b[0m\u001b[0;34m\u001b[0m\u001b[0;34m\u001b[0m\u001b[0m\n\u001b[0m\u001b[1;32m    431\u001b[0m \u001b[0;34m\u001b[0m\u001b[0m\n\u001b[1;32m    432\u001b[0m             \u001b[0;31m# create/copy the manager\u001b[0m\u001b[0;34m\u001b[0m\u001b[0;34m\u001b[0m\u001b[0;34m\u001b[0m\u001b[0m\n",
      "\u001b[0;32m~/opt/anaconda3/lib/python3.8/site-packages/pandas/core/common.py\u001b[0m in \u001b[0;36mrequire_length_match\u001b[0;34m(data, index)\u001b[0m\n\u001b[1;32m    529\u001b[0m     \"\"\"\n\u001b[1;32m    530\u001b[0m     \u001b[0;32mif\u001b[0m \u001b[0mlen\u001b[0m\u001b[0;34m(\u001b[0m\u001b[0mdata\u001b[0m\u001b[0;34m)\u001b[0m \u001b[0;34m!=\u001b[0m \u001b[0mlen\u001b[0m\u001b[0;34m(\u001b[0m\u001b[0mindex\u001b[0m\u001b[0;34m)\u001b[0m\u001b[0;34m:\u001b[0m\u001b[0;34m\u001b[0m\u001b[0;34m\u001b[0m\u001b[0m\n\u001b[0;32m--> 531\u001b[0;31m         raise ValueError(\n\u001b[0m\u001b[1;32m    532\u001b[0m             \u001b[0;34m\"Length of values \"\u001b[0m\u001b[0;34m\u001b[0m\u001b[0;34m\u001b[0m\u001b[0m\n\u001b[1;32m    533\u001b[0m             \u001b[0;34mf\"({len(data)}) \"\u001b[0m\u001b[0;34m\u001b[0m\u001b[0;34m\u001b[0m\u001b[0m\n",
      "\u001b[0;31mValueError\u001b[0m: Length of values (28) does not match length of index (25)"
     ]
    }
   ],
   "source": [
    "\n",
    "feature_scores = pd.Series(rf_rus.feature_importances_, index = X_train.columns).sort_values(ascending = False)\n",
    "feature_scores\n",
    "\n",
    "'''\n",
    "feature_importances = pd.DataFrame(rf_rus.feature_importances_,index = rf_rus.columns,columns=['importance']).sort_values('importance',ascending=False)\n",
    "plt.figure(figsize=(13, 7))\n",
    "plt.barh(importance['feature'], importance['importance'], color='blue')\n",
    "plt.title('Feature Importance')\n",
    "plt.show()'''\n",
    "\n",
    "'''\n",
    "importances = pd.DataFrame(feature_importance, columns=['importance'])\n",
    "feature_data = pd.DataFrame(X_train.columns, columns=['feature'])\n",
    "importance = pd.concat([feature_data, importances], axis=1)\n",
    "importance = importance.sort_values(['importance'], ascending=True)\n",
    "importance.set_index('feature', inplace=True)\n",
    "importance = importance.reset_index()\n",
    "\n",
    "plt.figure(figsize=(13, 7))\n",
    "plt.barh(importance['feature'], importance['importance'], color='blue')\n",
    "plt.title('Feature Importance')\n",
    "plt.show()'''"
   ]
  },
  {
   "cell_type": "code",
   "execution_count": null,
   "metadata": {},
   "outputs": [],
   "source": []
  },
  {
   "cell_type": "code",
   "execution_count": null,
   "metadata": {},
   "outputs": [],
   "source": []
  },
  {
   "cell_type": "code",
   "execution_count": null,
   "metadata": {},
   "outputs": [],
   "source": []
  }
 ],
 "metadata": {
  "kernelspec": {
   "display_name": "Python 3",
   "language": "python",
   "name": "python3"
  },
  "language_info": {
   "codemirror_mode": {
    "name": "ipython",
    "version": 3
   },
   "file_extension": ".py",
   "mimetype": "text/x-python",
   "name": "python",
   "nbconvert_exporter": "python",
   "pygments_lexer": "ipython3",
   "version": "3.8.5"
  }
 },
 "nbformat": 4,
 "nbformat_minor": 4
}
