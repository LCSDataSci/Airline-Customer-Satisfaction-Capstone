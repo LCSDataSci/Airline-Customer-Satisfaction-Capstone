{
 "cells": [
  {
   "cell_type": "markdown",
   "metadata": {},
   "source": [
    "# **Airline Customer Satisfaction Capstone**"
   ]
  },
  {
   "cell_type": "markdown",
   "metadata": {},
   "source": [
    "## Modeling"
   ]
  },
  {
   "cell_type": "markdown",
   "metadata": {},
   "source": [
    "INFO HERE"
   ]
  },
  {
   "cell_type": "markdown",
   "metadata": {},
   "source": [
    "## 1. Table of Contents"
   ]
  },
  {
   "cell_type": "markdown",
   "metadata": {},
   "source": [
    "[1. Table of Contents](#1.-Table-of-Contents)\n",
    "\n",
    "[2. Import Packages](#2.-Import-Packages)\n",
    "\n",
    "[3. Load Data](#3.-Load-Data)\n",
    "\n",
    "[4. Explore the Data](#4.-Explore-the-Data)\n",
    "\n",
    "[5. Resampling Techniques](#5.-Resampling-Techniques)\n",
    "\n",
    "[6. Logistic Regression](#6.-Logistic-Regression)\n",
    "\n",
    "[7. Random Forest](#7.-Random-Forest)\n",
    "\n",
    "[8. XGBoost](#8.-XGBoost)"
   ]
  },
  {
   "cell_type": "markdown",
   "metadata": {},
   "source": [
    "## 2. Import Packages"
   ]
  },
  {
   "cell_type": "code",
   "execution_count": 81,
   "metadata": {},
   "outputs": [],
   "source": [
    "import pandas as pd\n",
    "import numpy as np\n",
    "import os\n",
    "import pickle\n",
    "import matplotlib.pyplot as plt\n",
    "import seaborn as sns\n",
    "from sklearn import __version__ as sklearn_version\n",
    "from sklearn.decomposition import PCA\n",
    "from sklearn.preprocessing import scale\n",
    "from sklearn.model_selection import train_test_split, cross_validate, GridSearchCV, learning_curve\n",
    "from sklearn.preprocessing import StandardScaler, MinMaxScaler\n",
    "from sklearn.dummy import DummyRegressor\n",
    "from sklearn.linear_model import LinearRegression\n",
    "from sklearn.ensemble import RandomForestRegressor\n",
    "from sklearn.metrics import r2_score, mean_squared_error, mean_absolute_error\n",
    "from sklearn.pipeline import make_pipeline\n",
    "from sklearn.impute import SimpleImputer\n",
    "from sklearn.feature_selection import SelectKBest, f_regression\n",
    "import datetime\n",
    "from sklearn.linear_model import LogisticRegression\n",
    "from sklearn.metrics import accuracy_score\n",
    "from sklearn import metrics\n",
    "from sklearn.metrics import plot_confusion_matrix, classification_report,confusion_matrix\n",
    "from sklearn.metrics import accuracy_score ,confusion_matrix,classification_report,plot_confusion_matrix"
   ]
  },
  {
   "cell_type": "markdown",
   "metadata": {},
   "source": [
    "## 3. Load Data"
   ]
  },
  {
   "cell_type": "code",
   "execution_count": 10,
   "metadata": {},
   "outputs": [],
   "source": [
    "X_train = pd.read_csv('/Users/lauren/Desktop/X_train.csv', index_col=0)\n",
    "X_test = pd.read_csv('/Users/lauren/Desktop/X_test.csv', index_col=0)\n",
    "y_train = pd.read_csv('/Users/lauren/Desktop/y_train.csv', index_col=0)\n",
    "y_test = pd.read_csv('/Users/lauren/Desktop/y_test.csv', index_col=0)"
   ]
  },
  {
   "cell_type": "markdown",
   "metadata": {},
   "source": [
    "## 4. Explore the Data"
   ]
  },
  {
   "cell_type": "code",
   "execution_count": 11,
   "metadata": {},
   "outputs": [
    {
     "name": "stdout",
     "output_type": "stream",
     "text": [
      "<class 'pandas.core.frame.DataFrame'>\n",
      "Int64Index: 90640 entries, 107696 to 6923\n",
      "Data columns (total 28 columns):\n",
      " #   Column                                  Non-Null Count  Dtype  \n",
      "---  ------                                  --------------  -----  \n",
      " 0   index                                   90640 non-null  int64  \n",
      " 1   Age                                     90640 non-null  int64  \n",
      " 2   Flight Distance                         90640 non-null  int64  \n",
      " 3   Departure Delay                         90640 non-null  int64  \n",
      " 4   Arrival Delay                           90640 non-null  float64\n",
      " 5   Departure and Arrival Time Convenience  90640 non-null  int64  \n",
      " 6   Ease of Online Booking                  90640 non-null  int64  \n",
      " 7   Check-in Service                        90640 non-null  int64  \n",
      " 8   Online Boarding                         90640 non-null  int64  \n",
      " 9   Gate Location                           90640 non-null  int64  \n",
      " 10  On-board Service                        90640 non-null  int64  \n",
      " 11  Seat Comfort                            90640 non-null  int64  \n",
      " 12  Leg Room Service                        90640 non-null  int64  \n",
      " 13  Cleanliness                             90640 non-null  int64  \n",
      " 14  Food and Drink                          90640 non-null  int64  \n",
      " 15  In-flight Service                       90640 non-null  int64  \n",
      " 16  In-flight Wifi Service                  90640 non-null  int64  \n",
      " 17  In-flight Entertainment                 90640 non-null  int64  \n",
      " 18  Baggage Handling                        90640 non-null  int64  \n",
      " 19  Gender_Female                           90640 non-null  int64  \n",
      " 20  Gender_Male                             90640 non-null  int64  \n",
      " 21  Customer Type_First-time                90640 non-null  int64  \n",
      " 22  Customer Type_Returning                 90640 non-null  int64  \n",
      " 23  Type of Travel_Business                 90640 non-null  int64  \n",
      " 24  Type of Travel_Personal                 90640 non-null  int64  \n",
      " 25  Class_Business                          90640 non-null  int64  \n",
      " 26  Class_Economy                           90640 non-null  int64  \n",
      " 27  Class_Economy Plus                      90640 non-null  int64  \n",
      "dtypes: float64(1), int64(27)\n",
      "memory usage: 20.1 MB\n"
     ]
    }
   ],
   "source": [
    "X_train.info()"
   ]
  },
  {
   "cell_type": "code",
   "execution_count": 12,
   "metadata": {},
   "outputs": [
    {
     "name": "stdout",
     "output_type": "stream",
     "text": [
      "<class 'pandas.core.frame.DataFrame'>\n",
      "Int64Index: 38847 entries, 18831 to 79733\n",
      "Data columns (total 28 columns):\n",
      " #   Column                                  Non-Null Count  Dtype  \n",
      "---  ------                                  --------------  -----  \n",
      " 0   index                                   38847 non-null  int64  \n",
      " 1   Age                                     38847 non-null  int64  \n",
      " 2   Flight Distance                         38847 non-null  int64  \n",
      " 3   Departure Delay                         38847 non-null  int64  \n",
      " 4   Arrival Delay                           38847 non-null  float64\n",
      " 5   Departure and Arrival Time Convenience  38847 non-null  int64  \n",
      " 6   Ease of Online Booking                  38847 non-null  int64  \n",
      " 7   Check-in Service                        38847 non-null  int64  \n",
      " 8   Online Boarding                         38847 non-null  int64  \n",
      " 9   Gate Location                           38847 non-null  int64  \n",
      " 10  On-board Service                        38847 non-null  int64  \n",
      " 11  Seat Comfort                            38847 non-null  int64  \n",
      " 12  Leg Room Service                        38847 non-null  int64  \n",
      " 13  Cleanliness                             38847 non-null  int64  \n",
      " 14  Food and Drink                          38847 non-null  int64  \n",
      " 15  In-flight Service                       38847 non-null  int64  \n",
      " 16  In-flight Wifi Service                  38847 non-null  int64  \n",
      " 17  In-flight Entertainment                 38847 non-null  int64  \n",
      " 18  Baggage Handling                        38847 non-null  int64  \n",
      " 19  Gender_Female                           38847 non-null  int64  \n",
      " 20  Gender_Male                             38847 non-null  int64  \n",
      " 21  Customer Type_First-time                38847 non-null  int64  \n",
      " 22  Customer Type_Returning                 38847 non-null  int64  \n",
      " 23  Type of Travel_Business                 38847 non-null  int64  \n",
      " 24  Type of Travel_Personal                 38847 non-null  int64  \n",
      " 25  Class_Business                          38847 non-null  int64  \n",
      " 26  Class_Economy                           38847 non-null  int64  \n",
      " 27  Class_Economy Plus                      38847 non-null  int64  \n",
      "dtypes: float64(1), int64(27)\n",
      "memory usage: 8.6 MB\n"
     ]
    }
   ],
   "source": [
    "X_test.info()"
   ]
  },
  {
   "cell_type": "code",
   "execution_count": 13,
   "metadata": {},
   "outputs": [
    {
     "name": "stdout",
     "output_type": "stream",
     "text": [
      "<class 'pandas.core.frame.DataFrame'>\n",
      "Int64Index: 90640 entries, 107696 to 6923\n",
      "Data columns (total 1 columns):\n",
      " #   Column        Non-Null Count  Dtype \n",
      "---  ------        --------------  ----- \n",
      " 0   Satisfaction  90640 non-null  object\n",
      "dtypes: object(1)\n",
      "memory usage: 1.4+ MB\n"
     ]
    }
   ],
   "source": [
    "y_train.info()"
   ]
  },
  {
   "cell_type": "code",
   "execution_count": 14,
   "metadata": {},
   "outputs": [
    {
     "name": "stdout",
     "output_type": "stream",
     "text": [
      "<class 'pandas.core.frame.DataFrame'>\n",
      "Int64Index: 38847 entries, 18831 to 79733\n",
      "Data columns (total 1 columns):\n",
      " #   Column        Non-Null Count  Dtype \n",
      "---  ------        --------------  ----- \n",
      " 0   Satisfaction  38847 non-null  object\n",
      "dtypes: object(1)\n",
      "memory usage: 607.0+ KB\n"
     ]
    }
   ],
   "source": [
    "y_test.info()"
   ]
  },
  {
   "cell_type": "code",
   "execution_count": 15,
   "metadata": {},
   "outputs": [
    {
     "data": {
      "text/plain": [
       "Satisfaction           \n",
       "Neutral or Dissatisfied    51257\n",
       "Satisfied                  39383\n",
       "dtype: int64"
      ]
     },
     "execution_count": 15,
     "metadata": {},
     "output_type": "execute_result"
    }
   ],
   "source": [
    "y_train.value_counts()"
   ]
  },
  {
   "cell_type": "code",
   "execution_count": 16,
   "metadata": {},
   "outputs": [
    {
     "data": {
      "text/plain": [
       "Satisfaction           \n",
       "Neutral or Dissatisfied    21968\n",
       "Satisfied                  16879\n",
       "dtype: int64"
      ]
     },
     "execution_count": 16,
     "metadata": {},
     "output_type": "execute_result"
    }
   ],
   "source": [
    "y_test.value_counts()"
   ]
  },
  {
   "cell_type": "markdown",
   "metadata": {},
   "source": [
    "## 5. Resampling Techniques"
   ]
  },
  {
   "cell_type": "markdown",
   "metadata": {},
   "source": [
    "There are two resampling techniquest that we will use: undersampling and oversampling.  First, we will look at undersampling:"
   ]
  },
  {
   "cell_type": "markdown",
   "metadata": {},
   "source": [
    "### 5.1 Undersampling"
   ]
  },
  {
   "cell_type": "code",
   "execution_count": 63,
   "metadata": {},
   "outputs": [
    {
     "data": {
      "text/html": [
       "<div>\n",
       "<style scoped>\n",
       "    .dataframe tbody tr th:only-of-type {\n",
       "        vertical-align: middle;\n",
       "    }\n",
       "\n",
       "    .dataframe tbody tr th {\n",
       "        vertical-align: top;\n",
       "    }\n",
       "\n",
       "    .dataframe thead th {\n",
       "        text-align: right;\n",
       "    }\n",
       "</style>\n",
       "<table border=\"1\" class=\"dataframe\">\n",
       "  <thead>\n",
       "    <tr style=\"text-align: right;\">\n",
       "      <th></th>\n",
       "      <th>technique</th>\n",
       "      <th>X_train_shape</th>\n",
       "      <th>y_train_shape</th>\n",
       "      <th>Satisfied</th>\n",
       "      <th>Neutral or Dissatisfied</th>\n",
       "    </tr>\n",
       "  </thead>\n",
       "  <tbody>\n",
       "    <tr>\n",
       "      <th>0</th>\n",
       "      <td>Original Data</td>\n",
       "      <td>90640</td>\n",
       "      <td>90640</td>\n",
       "      <td>39383</td>\n",
       "      <td>51257</td>\n",
       "    </tr>\n",
       "  </tbody>\n",
       "</table>\n",
       "</div>"
      ],
      "text/plain": [
       "       technique  X_train_shape  y_train_shape  Satisfied  \\\n",
       "0  Original Data          90640          90640      39383   \n",
       "\n",
       "   Neutral or Dissatisfied  \n",
       "0                    51257  "
      ]
     },
     "execution_count": 63,
     "metadata": {},
     "output_type": "execute_result"
    }
   ],
   "source": [
    "counts_table = pd.DataFrame()\n",
    "\n",
    "counts_table['technique'] = ['Original Data']\n",
    "counts_table['X_train_shape'] = [X_train.shape[0]]\n",
    "counts_table['y_train_shape'] = [y_train.shape[0]]\n",
    "counts_table['Satisfied'] = [y_train.value_counts()[1]]\n",
    "counts_table['Neutral or Dissatisfied'] = [y_train.value_counts()[0]]\n",
    "\n",
    "counts_table"
   ]
  },
  {
   "cell_type": "code",
   "execution_count": 64,
   "metadata": {},
   "outputs": [],
   "source": [
    "from imblearn.under_sampling import RandomUnderSampler\n",
    "\n",
    "rus = RandomUnderSampler(random_state=42, replacement=True)\n",
    "\n",
    "X_train_rus, y_train_rus = rus.fit_sample(X_train, y_train)"
   ]
  },
  {
   "cell_type": "code",
   "execution_count": 65,
   "metadata": {},
   "outputs": [
    {
     "data": {
      "text/html": [
       "<div>\n",
       "<style scoped>\n",
       "    .dataframe tbody tr th:only-of-type {\n",
       "        vertical-align: middle;\n",
       "    }\n",
       "\n",
       "    .dataframe tbody tr th {\n",
       "        vertical-align: top;\n",
       "    }\n",
       "\n",
       "    .dataframe thead th {\n",
       "        text-align: right;\n",
       "    }\n",
       "</style>\n",
       "<table border=\"1\" class=\"dataframe\">\n",
       "  <thead>\n",
       "    <tr style=\"text-align: right;\">\n",
       "      <th></th>\n",
       "      <th>technique</th>\n",
       "      <th>X_train_shape</th>\n",
       "      <th>y_train_shape</th>\n",
       "      <th>Satisfied</th>\n",
       "      <th>Neutral or Dissatisfied</th>\n",
       "    </tr>\n",
       "  </thead>\n",
       "  <tbody>\n",
       "    <tr>\n",
       "      <th>0</th>\n",
       "      <td>Original Data</td>\n",
       "      <td>90640</td>\n",
       "      <td>90640</td>\n",
       "      <td>39383</td>\n",
       "      <td>51257</td>\n",
       "    </tr>\n",
       "    <tr>\n",
       "      <th>1</th>\n",
       "      <td>Random Under Sampling</td>\n",
       "      <td>78766</td>\n",
       "      <td>78766</td>\n",
       "      <td>39383</td>\n",
       "      <td>39383</td>\n",
       "    </tr>\n",
       "  </tbody>\n",
       "</table>\n",
       "</div>"
      ],
      "text/plain": [
       "               technique  X_train_shape  y_train_shape  Satisfied  \\\n",
       "0          Original Data          90640          90640      39383   \n",
       "1  Random Under Sampling          78766          78766      39383   \n",
       "\n",
       "   Neutral or Dissatisfied  \n",
       "0                    51257  \n",
       "1                    39383  "
      ]
     },
     "execution_count": 65,
     "metadata": {},
     "output_type": "execute_result"
    }
   ],
   "source": [
    "new_row = {'technique':'Random Under Sampling', \n",
    "           'X_train_shape': X_train_rus.shape[0],\n",
    "          'y_train_shape': y_train_rus.shape[0],\n",
    "           'Satisfied': y_train_rus.value_counts()[1],\n",
    "          'Neutral or Dissatisfied': y_train_rus.value_counts()[0]}\n",
    "\n",
    "counts_table = counts_table.append(new_row, ignore_index=True)\n",
    "counts_table"
   ]
  },
  {
   "cell_type": "markdown",
   "metadata": {},
   "source": [
    "### 5.2 SMOTE"
   ]
  },
  {
   "cell_type": "code",
   "execution_count": 66,
   "metadata": {},
   "outputs": [],
   "source": [
    "from imblearn.over_sampling import SMOTE\n",
    "\n",
    "smote = SMOTE(random_state=42, sampling_strategy = 'minority')\n",
    "\n",
    "X_train_sm, y_train_sm = smote.fit_sample(X_train, y_train)"
   ]
  },
  {
   "cell_type": "code",
   "execution_count": 67,
   "metadata": {},
   "outputs": [
    {
     "data": {
      "text/html": [
       "<div>\n",
       "<style scoped>\n",
       "    .dataframe tbody tr th:only-of-type {\n",
       "        vertical-align: middle;\n",
       "    }\n",
       "\n",
       "    .dataframe tbody tr th {\n",
       "        vertical-align: top;\n",
       "    }\n",
       "\n",
       "    .dataframe thead th {\n",
       "        text-align: right;\n",
       "    }\n",
       "</style>\n",
       "<table border=\"1\" class=\"dataframe\">\n",
       "  <thead>\n",
       "    <tr style=\"text-align: right;\">\n",
       "      <th></th>\n",
       "      <th>technique</th>\n",
       "      <th>X_train_shape</th>\n",
       "      <th>y_train_shape</th>\n",
       "      <th>Satisfied</th>\n",
       "      <th>Neutral or Dissatisfied</th>\n",
       "    </tr>\n",
       "  </thead>\n",
       "  <tbody>\n",
       "    <tr>\n",
       "      <th>0</th>\n",
       "      <td>Original Data</td>\n",
       "      <td>90640</td>\n",
       "      <td>90640</td>\n",
       "      <td>39383</td>\n",
       "      <td>51257</td>\n",
       "    </tr>\n",
       "    <tr>\n",
       "      <th>1</th>\n",
       "      <td>Random Under Sampling</td>\n",
       "      <td>78766</td>\n",
       "      <td>78766</td>\n",
       "      <td>39383</td>\n",
       "      <td>39383</td>\n",
       "    </tr>\n",
       "    <tr>\n",
       "      <th>2</th>\n",
       "      <td>SMOTE - minority</td>\n",
       "      <td>102514</td>\n",
       "      <td>102514</td>\n",
       "      <td>51257</td>\n",
       "      <td>51257</td>\n",
       "    </tr>\n",
       "  </tbody>\n",
       "</table>\n",
       "</div>"
      ],
      "text/plain": [
       "               technique  X_train_shape  y_train_shape  Satisfied  \\\n",
       "0          Original Data          90640          90640      39383   \n",
       "1  Random Under Sampling          78766          78766      39383   \n",
       "2       SMOTE - minority         102514         102514      51257   \n",
       "\n",
       "   Neutral or Dissatisfied  \n",
       "0                    51257  \n",
       "1                    39383  \n",
       "2                    51257  "
      ]
     },
     "execution_count": 67,
     "metadata": {},
     "output_type": "execute_result"
    }
   ],
   "source": [
    "new_row = {'technique':'SMOTE - minority', \n",
    "           'X_train_shape': X_train_sm.shape[0],\n",
    "          'y_train_shape': y_train_sm.shape[0],\n",
    "           'Satisfied': y_train_sm.value_counts()[1],\n",
    "          'Neutral or Dissatisfied': y_train_sm.value_counts()[0]}\n",
    "\n",
    "counts_table = counts_table.append(new_row, ignore_index=True)\n",
    "counts_table"
   ]
  },
  {
   "cell_type": "code",
   "execution_count": 68,
   "metadata": {},
   "outputs": [],
   "source": [
    "X_train_np = X_train.to_numpy()\n",
    "y_train_np = y_train.to_numpy().ravel()\n",
    "X_train_rus_np = X_train_rus.to_numpy()\n",
    "y_train_rus_np = y_train_rus.to_numpy().ravel()\n",
    "X_train_ros_np = X_train_ros.to_numpy()\n",
    "y_train_ros_np = y_train_ros.to_numpy().ravel()\n",
    "X_train_sm_np = X_train_sm.to_numpy()\n",
    "y_train_sm_np = y_train_sm.to_numpy().ravel()\n",
    "\n",
    "X_test_np = X_test.to_numpy()\n",
    "y_test_np = y_test.to_numpy().ravel()"
   ]
  },
  {
   "cell_type": "code",
   "execution_count": 69,
   "metadata": {},
   "outputs": [
    {
     "name": "stdout",
     "output_type": "stream",
     "text": [
      "(90640, 28) (90640,)\n",
      "(78766, 28) (78766,)\n",
      "(102514, 28) (102514,)\n",
      "(102514, 28) (102514,)\n"
     ]
    }
   ],
   "source": [
    "print(X_train_np.shape, y_train_np.shape)\n",
    "print(X_train_rus_np.shape, y_train_rus_np.shape)\n",
    "print(X_train_ros_np.shape, y_train_ros_np.shape)\n",
    "print(X_train_sm_np.shape, y_train_sm_np.shape)"
   ]
  },
  {
   "cell_type": "markdown",
   "metadata": {},
   "source": [
    "## 6. Logistic Regression"
   ]
  },
  {
   "cell_type": "markdown",
   "metadata": {},
   "source": [
    "### 6.1 Random Under Sampling"
   ]
  },
  {
   "cell_type": "code",
   "execution_count": 31,
   "metadata": {},
   "outputs": [
    {
     "name": "stderr",
     "output_type": "stream",
     "text": [
      "/Users/lauren/opt/anaconda3/lib/python3.8/site-packages/sklearn/linear_model/_sag.py:329: ConvergenceWarning: The max_iter was reached which means the coef_ did not converge\n",
      "  warnings.warn(\"The max_iter was reached which means \"\n"
     ]
    }
   ],
   "source": [
    "from sklearn.linear_model import LogisticRegression\n",
    "\n",
    "lr_rus = LogisticRegression(solver = 'saga', random_state=42, max_iter = 2000)\n",
    "# Fit the model on the trainng data.\n",
    "lr_rus.fit(X_train_rus_np, y_train_rus_np)\n",
    "\n",
    "y_pred_train_1a = lr_rus.predict(X_train_rus_np)\n",
    "y_pred_test_1a = lr_rus.predict(X_test_np)"
   ]
  },
  {
   "cell_type": "code",
   "execution_count": 32,
   "metadata": {},
   "outputs": [],
   "source": [
    "cm_1a_train = confusion_matrix(y_train_rus_np, y_pred_train_1a)\n",
    "cm_1a_test = confusion_matrix(y_test_np, y_pred_test_1a)"
   ]
  },
  {
   "cell_type": "code",
   "execution_count": 33,
   "metadata": {},
   "outputs": [
    {
     "data": {
      "text/plain": [
       "Text(0.5, 1.0, 'LogisticRegression RUS - Testing confusion matrix')"
      ]
     },
     "execution_count": 33,
     "metadata": {},
     "output_type": "execute_result"
    },
    {
     "data": {
      "image/png": "[encoded data removed]",
      "text/plain": [
       "<Figure size 864x360 with 4 Axes>"
      ]
     },
     "metadata": {
      "needs_background": "light"
     },
     "output_type": "display_data"
    }
   ],
   "source": [
    "fig, ax = plt.subplots(1,2, figsize=(12,5))\n",
    "sns.heatmap(cm_1a_train, annot=True, fmt = '', cmap = 'Blues',ax = ax[0])\n",
    "ax[0].set_xlabel('Predicted label')\n",
    "ax[0].set_ylabel('True label')\n",
    "ax[0].set_title('LogisticRegression RUS - Training confusion matrix')\n",
    "\n",
    "sns.heatmap(cm_1a_test, annot=True, fmt = '', cmap = 'Greens',ax = ax[1])\n",
    "ax[1].set_xlabel('Predicted label')\n",
    "ax[1].set_ylabel('True label')\n",
    "ax[1].set_title('LogisticRegression RUS - Testing confusion matrix')"
   ]
  },
  {
   "cell_type": "code",
   "execution_count": 34,
   "metadata": {},
   "outputs": [
    {
     "name": "stdout",
     "output_type": "stream",
     "text": [
      "[Training Classification Report]\n",
      "                         precision    recall  f1-score   support\n",
      "\n",
      "              Satisfied       0.61      0.58      0.60     39383\n",
      "Neutral or Dissatisfied       0.60      0.63      0.62     39383\n",
      "\n",
      "               accuracy                           0.61     78766\n",
      "              macro avg       0.61      0.61      0.61     78766\n",
      "           weighted avg       0.61      0.61      0.61     78766\n",
      "\n",
      "[Test Classification Report]\n",
      "                         precision    recall  f1-score   support\n",
      "\n",
      "              Satisfied       0.68      0.58      0.63     21968\n",
      "Neutral or Dissatisfied       0.54      0.64      0.58     16879\n",
      "\n",
      "               accuracy                           0.61     38847\n",
      "              macro avg       0.61      0.61      0.61     38847\n",
      "           weighted avg       0.62      0.61      0.61     38847\n",
      "\n"
     ]
    }
   ],
   "source": [
    "from sklearn.metrics import classification_report\n",
    "\n",
    "target_names = ['Satisfied', 'Neutral or Dissatisfied']\n",
    "\n",
    "print(\"[Training Classification Report]\")\n",
    "print(classification_report(y_train_rus_np, y_pred_train_1a, target_names=target_names))\n",
    "\n",
    "print(\"[Test Classification Report]\")\n",
    "print(classification_report(y_test_np, y_pred_test_1a, target_names=target_names))"
   ]
  },
  {
   "cell_type": "markdown",
   "metadata": {},
   "source": [
    "### 6.2 SMOTE"
   ]
  },
  {
   "cell_type": "code",
   "execution_count": 47,
   "metadata": {},
   "outputs": [
    {
     "name": "stderr",
     "output_type": "stream",
     "text": [
      "/Users/lauren/opt/anaconda3/lib/python3.8/site-packages/sklearn/linear_model/_sag.py:329: ConvergenceWarning: The max_iter was reached which means the coef_ did not converge\n",
      "  warnings.warn(\"The max_iter was reached which means \"\n"
     ]
    }
   ],
   "source": [
    "lr_sm = LogisticRegression(solver = 'saga', random_state=42, max_iter = 2000)\n",
    "# Fit the model on the trainng data.\n",
    "lr_sm.fit(X_train_sm_np, y_train_sm_np)\n",
    "\n",
    "y_pred_train_1c = lr_sm.predict(X_train_sm_np)\n",
    "y_pred_test_1c = lr_sm.predict(X_test_np)"
   ]
  },
  {
   "cell_type": "code",
   "execution_count": 48,
   "metadata": {},
   "outputs": [],
   "source": [
    "cm_1c_train = confusion_matrix(y_train_sm_np,y_pred_train_1c)\n",
    "cm_1c_test = confusion_matrix(y_test_np,y_pred_test_1c)"
   ]
  },
  {
   "cell_type": "code",
   "execution_count": 49,
   "metadata": {},
   "outputs": [
    {
     "data": {
      "text/plain": [
       "Text(0.5, 1.0, 'LogisticRegression SMOTE - Testing confusion matrix')"
      ]
     },
     "execution_count": 49,
     "metadata": {},
     "output_type": "execute_result"
    },
    {
     "data": {
      "image/png": "[encoded data removed]",
      "text/plain": [
       "<Figure size 864x360 with 4 Axes>"
      ]
     },
     "metadata": {
      "needs_background": "light"
     },
     "output_type": "display_data"
    }
   ],
   "source": [
    "fig, ax = plt.subplots(1,2, figsize=(12,5))\n",
    "sns.heatmap(cm_1c_train, annot=True, fmt = '', cmap = 'Blues',ax = ax[0])\n",
    "ax[0].set_xlabel('Predicted label')\n",
    "ax[0].set_ylabel('True label')\n",
    "ax[0].set_title('LogisticRegression SMOTE - Training confusion matrix')\n",
    "\n",
    "sns.heatmap(cm_1c_test, annot=True, fmt = '', cmap = 'Greens',ax = ax[1])\n",
    "ax[1].set_xlabel('Predicted label')\n",
    "ax[1].set_ylabel('True label')\n",
    "ax[1].set_title('LogisticRegression SMOTE - Testing confusion matrix')"
   ]
  },
  {
   "cell_type": "code",
   "execution_count": 50,
   "metadata": {},
   "outputs": [
    {
     "name": "stdout",
     "output_type": "stream",
     "text": [
      "[Training Classification Report]\n",
      "                         precision    recall  f1-score   support\n",
      "\n",
      "              Satisfied       0.62      0.59      0.60     51257\n",
      "Neutral or Dissatisfied       0.61      0.63      0.62     51257\n",
      "\n",
      "               accuracy                           0.61    102514\n",
      "              macro avg       0.61      0.61      0.61    102514\n",
      "           weighted avg       0.61      0.61      0.61    102514\n",
      "\n",
      "[Test Classification Report]\n",
      "                         precision    recall  f1-score   support\n",
      "\n",
      "              Satisfied       0.68      0.59      0.63     21968\n",
      "Neutral or Dissatisfied       0.54      0.63      0.59     16879\n",
      "\n",
      "               accuracy                           0.61     38847\n",
      "              macro avg       0.61      0.61      0.61     38847\n",
      "           weighted avg       0.62      0.61      0.61     38847\n",
      "\n"
     ]
    }
   ],
   "source": [
    "target_names = ['Satisfied', 'Neutral or Dissatisfied']\n",
    "\n",
    "print(\"[Training Classification Report]\")\n",
    "print(classification_report(y_train_sm_np, y_pred_train_1c, target_names=target_names))\n",
    "\n",
    "print(\"[Test Classification Report]\")\n",
    "print(classification_report(y_test_np, y_pred_test_1c, target_names=target_names))"
   ]
  },
  {
   "cell_type": "markdown",
   "metadata": {},
   "source": [
    "## 7. Random Forest"
   ]
  },
  {
   "cell_type": "markdown",
   "metadata": {},
   "source": [
    "### 7.1 Random Under Sampling"
   ]
  },
  {
   "cell_type": "code",
   "execution_count": 57,
   "metadata": {},
   "outputs": [],
   "source": [
    "from sklearn.ensemble import RandomForestClassifier\n",
    "\n",
    "rf_rus = RandomForestClassifier(random_state=42)\n",
    "rf_rus.fit(X_train_rus_np, y_train_rus_np)\n",
    "\n",
    "y_pred_train_2a = rf_rus.predict(X_train_rus_np)\n",
    "y_pred_test_2a = rf_rus.predict(X_test_np)"
   ]
  },
  {
   "cell_type": "code",
   "execution_count": 58,
   "metadata": {},
   "outputs": [],
   "source": [
    "cm_2a_train = confusion_matrix(y_train_rus_np,y_pred_train_2a)\n",
    "cm_2a_test = confusion_matrix(y_test_np,y_pred_test_2a)"
   ]
  },
  {
   "cell_type": "code",
   "execution_count": 59,
   "metadata": {},
   "outputs": [
    {
     "data": {
      "text/plain": [
       "Text(0.5, 1.0, 'RandomForest RUS - Testing confusion matrix')"
      ]
     },
     "execution_count": 59,
     "metadata": {},
     "output_type": "execute_result"
    },
    {
     "data": {
      "image/png": "[encoded data removed]",
      "text/plain": [
       "<Figure size 864x360 with 4 Axes>"
      ]
     },
     "metadata": {
      "needs_background": "light"
     },
     "output_type": "display_data"
    }
   ],
   "source": [
    "fig, ax = plt.subplots(1,2, figsize=(12,5))\n",
    "sns.heatmap(cm_2a_train, annot=True, fmt = '', cmap = 'Blues',ax = ax[0])\n",
    "ax[0].set_xlabel('Predicted label')\n",
    "ax[0].set_ylabel('True label')\n",
    "ax[0].set_title('RandomForest RUS - Training confusion matrix')\n",
    "\n",
    "sns.heatmap(cm_2a_test, annot=True, fmt = '', cmap = 'Greens',ax = ax[1])\n",
    "ax[1].set_xlabel('Predicted label')\n",
    "ax[1].set_ylabel('True label')\n",
    "ax[1].set_title('RandomForest RUS - Testing confusion matrix')"
   ]
  },
  {
   "cell_type": "code",
   "execution_count": 60,
   "metadata": {},
   "outputs": [
    {
     "name": "stdout",
     "output_type": "stream",
     "text": [
      "[Training Classification Report]\n",
      "                         precision    recall  f1-score   support\n",
      "\n",
      "              Satisfied       1.00      1.00      1.00     39383\n",
      "Neutral or Dissatisfied       1.00      1.00      1.00     39383\n",
      "\n",
      "               accuracy                           1.00     78766\n",
      "              macro avg       1.00      1.00      1.00     78766\n",
      "           weighted avg       1.00      1.00      1.00     78766\n",
      "\n",
      "[Test Classification Report]\n",
      "                         precision    recall  f1-score   support\n",
      "\n",
      "              Satisfied       0.97      0.96      0.97     21968\n",
      "Neutral or Dissatisfied       0.95      0.96      0.95     16879\n",
      "\n",
      "               accuracy                           0.96     38847\n",
      "              macro avg       0.96      0.96      0.96     38847\n",
      "           weighted avg       0.96      0.96      0.96     38847\n",
      "\n"
     ]
    }
   ],
   "source": [
    "target_names = ['Satisfied', 'Neutral or Dissatisfied']\n",
    "\n",
    "print(\"[Training Classification Report]\")\n",
    "print(classification_report(y_train_rus_np, y_pred_train_2a, target_names=target_names))\n",
    "\n",
    "print(\"[Test Classification Report]\")\n",
    "print(classification_report(y_test_np, y_pred_test_2a, target_names=target_names))"
   ]
  },
  {
   "cell_type": "markdown",
   "metadata": {},
   "source": [
    "### 7.2 SMOTE"
   ]
  },
  {
   "cell_type": "code",
   "execution_count": 73,
   "metadata": {},
   "outputs": [],
   "source": [
    "rf_sm = RandomForestClassifier(random_state=42)\n",
    "rf_sm.fit(X_train_sm_np, y_train_sm_np)\n",
    "\n",
    "y_pred_train_2b = rf_sm.predict(X_train_sm_np)\n",
    "y_pred_test_2b = rf_sm.predict(X_test_np)"
   ]
  },
  {
   "cell_type": "code",
   "execution_count": 74,
   "metadata": {},
   "outputs": [],
   "source": [
    "cm_2b_train = confusion_matrix(y_train_sm_np,y_pred_train_2b)\n",
    "cm_2b_test = confusion_matrix(y_test_np,y_pred_test_2b)"
   ]
  },
  {
   "cell_type": "code",
   "execution_count": 75,
   "metadata": {},
   "outputs": [
    {
     "data": {
      "text/plain": [
       "Text(0.5, 1.0, 'RandomForest SMOTE - Testing confusion matrix')"
      ]
     },
     "execution_count": 75,
     "metadata": {},
     "output_type": "execute_result"
    },
    {
     "data": {
      "image/png": "[encoded data removed]",
      "text/plain": [
       "<Figure size 864x360 with 4 Axes>"
      ]
     },
     "metadata": {
      "needs_background": "light"
     },
     "output_type": "display_data"
    }
   ],
   "source": [
    "fig, ax = plt.subplots(1,2, figsize=(12,5))\n",
    "sns.heatmap(cm_2b_train, annot=True, fmt = '', cmap = 'Blues',ax = ax[0])\n",
    "ax[0].set_xlabel('Predicted label')\n",
    "ax[0].set_ylabel('True label')\n",
    "ax[0].set_title('RandomForest SMOTE - Training confusion matrix')\n",
    "\n",
    "sns.heatmap(cm_2b_test, annot=True, fmt = '', cmap = 'Greens',ax = ax[1])\n",
    "ax[1].set_xlabel('Predicted label')\n",
    "ax[1].set_ylabel('True label')\n",
    "ax[1].set_title('RandomForest SMOTE - Testing confusion matrix')"
   ]
  },
  {
   "cell_type": "code",
   "execution_count": 76,
   "metadata": {},
   "outputs": [
    {
     "name": "stdout",
     "output_type": "stream",
     "text": [
      "[Training Classification Report]\n",
      "                         precision    recall  f1-score   support\n",
      "\n",
      "              Satisfied       1.00      1.00      1.00     51257\n",
      "Neutral or Dissatisfied       1.00      1.00      1.00     51257\n",
      "\n",
      "               accuracy                           1.00    102514\n",
      "              macro avg       1.00      1.00      1.00    102514\n",
      "           weighted avg       1.00      1.00      1.00    102514\n",
      "\n",
      "[Test Classification Report]\n",
      "                         precision    recall  f1-score   support\n",
      "\n",
      "              Satisfied       0.96      0.98      0.97     21968\n",
      "Neutral or Dissatisfied       0.97      0.95      0.96     16879\n",
      "\n",
      "               accuracy                           0.96     38847\n",
      "              macro avg       0.96      0.96      0.96     38847\n",
      "           weighted avg       0.96      0.96      0.96     38847\n",
      "\n"
     ]
    }
   ],
   "source": [
    "target_names = ['Satisfied', 'Neutral or Dissatisfied']\n",
    "\n",
    "print(\"[Training Classification Report]\")\n",
    "print(classification_report(y_train_sm_np, y_pred_train_2b, target_names=target_names))\n",
    "\n",
    "print(\"[Test Classification Report]\")\n",
    "print(classification_report(y_test_np, y_pred_test_2b, target_names=target_names))"
   ]
  },
  {
   "cell_type": "code",
   "execution_count": null,
   "metadata": {},
   "outputs": [],
   "source": []
  },
  {
   "cell_type": "markdown",
   "metadata": {},
   "source": [
    "## 8. XGBoost"
   ]
  },
  {
   "cell_type": "markdown",
   "metadata": {},
   "source": [
    "### 8.1 Random Under Sampling"
   ]
  },
  {
   "cell_type": "code",
   "execution_count": 85,
   "metadata": {},
   "outputs": [
    {
     "ename": "ValueError",
     "evalue": "The label must consist of integer labels of form 0, 1, 2, ..., [num_class - 1].",
     "output_type": "error",
     "traceback": [
      "\u001b[0;31m---------------------------------------------------------------------------\u001b[0m",
      "\u001b[0;31mValueError\u001b[0m                                Traceback (most recent call last)",
      "\u001b[0;32m<ipython-input-85-2368278d2e96>\u001b[0m in \u001b[0;36m<module>\u001b[0;34m\u001b[0m\n\u001b[1;32m      6\u001b[0m \u001b[0mxg_rus\u001b[0m \u001b[0;34m=\u001b[0m \u001b[0mxgb\u001b[0m\u001b[0;34m.\u001b[0m\u001b[0mXGBClassifier\u001b[0m\u001b[0;34m(\u001b[0m\u001b[0meval_metric\u001b[0m \u001b[0;34m=\u001b[0m \u001b[0;34m'logloss'\u001b[0m\u001b[0;34m,\u001b[0m \u001b[0muse_label_encoder\u001b[0m\u001b[0;34m=\u001b[0m\u001b[0;32mFalse\u001b[0m\u001b[0;34m,\u001b[0m \u001b[0mseed\u001b[0m \u001b[0;34m=\u001b[0m \u001b[0;36m42\u001b[0m\u001b[0;34m)\u001b[0m\u001b[0;34m\u001b[0m\u001b[0;34m\u001b[0m\u001b[0m\n\u001b[1;32m      7\u001b[0m \u001b[0;34m\u001b[0m\u001b[0m\n\u001b[0;32m----> 8\u001b[0;31m \u001b[0mxg_rus\u001b[0m\u001b[0;34m.\u001b[0m\u001b[0mfit\u001b[0m\u001b[0;34m(\u001b[0m\u001b[0mX_train_rus_np\u001b[0m\u001b[0;34m,\u001b[0m \u001b[0my_train_rus_np\u001b[0m\u001b[0;34m)\u001b[0m\u001b[0;34m\u001b[0m\u001b[0;34m\u001b[0m\u001b[0m\n\u001b[0m\u001b[1;32m      9\u001b[0m \u001b[0;34m\u001b[0m\u001b[0m\n\u001b[1;32m     10\u001b[0m \u001b[0my_pred_train_3a\u001b[0m \u001b[0;34m=\u001b[0m \u001b[0mxg_rus\u001b[0m\u001b[0;34m.\u001b[0m\u001b[0mpredict\u001b[0m\u001b[0;34m(\u001b[0m\u001b[0mX_train_rus_np\u001b[0m\u001b[0;34m)\u001b[0m\u001b[0;34m\u001b[0m\u001b[0;34m\u001b[0m\u001b[0m\n",
      "\u001b[0;32m~/opt/anaconda3/lib/python3.8/site-packages/xgboost/core.py\u001b[0m in \u001b[0;36minner_f\u001b[0;34m(*args, **kwargs)\u001b[0m\n\u001b[1;32m    504\u001b[0m         \u001b[0;32mfor\u001b[0m \u001b[0mk\u001b[0m\u001b[0;34m,\u001b[0m \u001b[0marg\u001b[0m \u001b[0;32min\u001b[0m \u001b[0mzip\u001b[0m\u001b[0;34m(\u001b[0m\u001b[0msig\u001b[0m\u001b[0;34m.\u001b[0m\u001b[0mparameters\u001b[0m\u001b[0;34m,\u001b[0m \u001b[0margs\u001b[0m\u001b[0;34m)\u001b[0m\u001b[0;34m:\u001b[0m\u001b[0;34m\u001b[0m\u001b[0;34m\u001b[0m\u001b[0m\n\u001b[1;32m    505\u001b[0m             \u001b[0mkwargs\u001b[0m\u001b[0;34m[\u001b[0m\u001b[0mk\u001b[0m\u001b[0;34m]\u001b[0m \u001b[0;34m=\u001b[0m \u001b[0marg\u001b[0m\u001b[0;34m\u001b[0m\u001b[0;34m\u001b[0m\u001b[0m\n\u001b[0;32m--> 506\u001b[0;31m         \u001b[0;32mreturn\u001b[0m \u001b[0mf\u001b[0m\u001b[0;34m(\u001b[0m\u001b[0;34m**\u001b[0m\u001b[0mkwargs\u001b[0m\u001b[0;34m)\u001b[0m\u001b[0;34m\u001b[0m\u001b[0;34m\u001b[0m\u001b[0m\n\u001b[0m\u001b[1;32m    507\u001b[0m \u001b[0;34m\u001b[0m\u001b[0m\n\u001b[1;32m    508\u001b[0m     \u001b[0;32mreturn\u001b[0m \u001b[0minner_f\u001b[0m\u001b[0;34m\u001b[0m\u001b[0;34m\u001b[0m\u001b[0m\n",
      "\u001b[0;32m~/opt/anaconda3/lib/python3.8/site-packages/xgboost/sklearn.py\u001b[0m in \u001b[0;36mfit\u001b[0;34m(self, X, y, sample_weight, base_margin, eval_set, eval_metric, early_stopping_rounds, verbose, xgb_model, sample_weight_eval_set, base_margin_eval_set, feature_weights, callbacks)\u001b[0m\n\u001b[1;32m   1197\u001b[0m                 \u001b[0;32mnot\u001b[0m \u001b[0mnp\u001b[0m\u001b[0;34m.\u001b[0m\u001b[0marray_equal\u001b[0m\u001b[0;34m(\u001b[0m\u001b[0mself\u001b[0m\u001b[0;34m.\u001b[0m\u001b[0mclasses_\u001b[0m\u001b[0;34m,\u001b[0m \u001b[0mnp\u001b[0m\u001b[0;34m.\u001b[0m\u001b[0marange\u001b[0m\u001b[0;34m(\u001b[0m\u001b[0mself\u001b[0m\u001b[0;34m.\u001b[0m\u001b[0mn_classes_\u001b[0m\u001b[0;34m)\u001b[0m\u001b[0;34m)\u001b[0m\u001b[0;34m\u001b[0m\u001b[0;34m\u001b[0m\u001b[0m\n\u001b[1;32m   1198\u001b[0m             ):\n\u001b[0;32m-> 1199\u001b[0;31m                 \u001b[0;32mraise\u001b[0m \u001b[0mValueError\u001b[0m\u001b[0;34m(\u001b[0m\u001b[0mlabel_encoding_check_error\u001b[0m\u001b[0;34m)\u001b[0m\u001b[0;34m\u001b[0m\u001b[0;34m\u001b[0m\u001b[0m\n\u001b[0m\u001b[1;32m   1200\u001b[0m \u001b[0;34m\u001b[0m\u001b[0m\n\u001b[1;32m   1201\u001b[0m         \u001b[0mparams\u001b[0m \u001b[0;34m=\u001b[0m \u001b[0mself\u001b[0m\u001b[0;34m.\u001b[0m\u001b[0mget_xgb_params\u001b[0m\u001b[0;34m(\u001b[0m\u001b[0;34m)\u001b[0m\u001b[0;34m\u001b[0m\u001b[0;34m\u001b[0m\u001b[0m\n",
      "\u001b[0;31mValueError\u001b[0m: The label must consist of integer labels of form 0, 1, 2, ..., [num_class - 1]."
     ]
    }
   ],
   "source": [
    "import xgboost as xgb\n",
    "\n",
    "y_train['Satisfaction'] = y_train['Satisfaction'].apply(lambda x: 1 if (x == 'Satisfied') else 0)\n",
    "y_test['Satisfaction'] = y_test['Satisfaction'].apply(lambda x: 1 if (x == 'Satisfied') else 0)\n",
    "\n",
    "xg_rus = xgb.XGBClassifier(eval_metric = 'logloss', use_label_encoder=False, seed = 42)\n",
    "\n",
    "xg_rus.fit(X_train_rus_np, y_train_rus_np)\n",
    "\n",
    "y_pred_train_3a = xg_rus.predict(X_train_rus_np)\n",
    "y_pred_test_3a = xg_rus.predict(X_test_np)"
   ]
  },
  {
   "cell_type": "markdown",
   "metadata": {},
   "source": [
    "### 8.2 SMOTE"
   ]
  },
  {
   "cell_type": "code",
   "execution_count": null,
   "metadata": {},
   "outputs": [],
   "source": []
  }
 ],
 "metadata": {
  "kernelspec": {
   "display_name": "Python 3",
   "language": "python",
   "name": "python3"
  },
  "language_info": {
   "codemirror_mode": {
    "name": "ipython",
    "version": 3
   },
   "file_extension": ".py",
   "mimetype": "text/x-python",
   "name": "python",
   "nbconvert_exporter": "python",
   "pygments_lexer": "ipython3",
   "version": "3.8.5"
  }
 },
 "nbformat": 4,
 "nbformat_minor": 4
}
